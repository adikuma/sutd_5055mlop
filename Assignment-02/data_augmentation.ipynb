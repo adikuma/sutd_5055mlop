{
 "cells": [
  {
   "cell_type": "code",
   "execution_count": 12,
   "metadata": {},
   "outputs": [
    {
     "name": "stderr",
     "output_type": "stream",
     "text": [
      "c:\\Users\\adity\\AppData\\Local\\Programs\\Python\\Python311\\Lib\\site-packages\\langchain_openai\\chat_models\\base.py:1363: UserWarning: Received a Pydantic BaseModel V1 schema. This is not supported by method=\"json_schema\". Please use method=\"function_calling\" or specify schema via JSON Schema or Pydantic V2 BaseModel. Overriding to method=\"function_calling\".\n",
      "  warnings.warn(\n"
     ]
    },
    {
     "name": "stdout",
     "output_type": "stream",
     "text": [
      "Data=[NegativeRow(Text=\"Honestly, I don't see the point in trying anymore; it's just not worth the stress.\", Label='NEG', HumanLabel='NEG'), NegativeRow(Text=\"It's frustrating how nothing ever goes according to plan, no matter how much effort I put in.\", Label='NEG', HumanLabel='NEG'), NegativeRow(Text=\"I've given up hoping for anything positive to happen; it's just disappointment after disappointment.\", Label='NEG', HumanLabel='NEG'), NegativeRow(Text='Wow, another day, another failure. Just fantastic.', Label='NEG', HumanLabel='NEG'), NegativeRow(Text=\"Why do I even bother? It's clear nobody appreciates what I do anyway.\", Label='NEG', HumanLabel='NEG'), NegativeRow(Text=\"I guess I'm invisible, because nobody seems to notice or care about what I'm going through.\", Label='NEG', HumanLabel='NEG'), NegativeRow(Text=\"Sick and tired of being let down every single time. It's exhausting.\", Label='NEG', HumanLabel='NEG'), NegativeRow(Text='Not surprised that once again things have taken a turn for the worse. Typical.', Label='NEG', HumanLabel='NEG'), NegativeRow(Text='Sometimes I wish I could just disappear and get away from it all.', Label='NEG', HumanLabel='NEG'), NegativeRow(Text=\"I wonder if there's ever going to be a day where I can actually be happy with how things are going.\", Label='NEG', HumanLabel='NEG'), NegativeRow(Text=\"I wouldn't hold my breath waiting for things to get better, because they never do.\", Label='NEG', HumanLabel='NEG'), NegativeRow(Text=\"It feels like I'm stuck in a never-ending cycle of disappointment and hopelessness.\", Label='NEG', HumanLabel='NEG'), NegativeRow(Text=\"Honestly, I'm getting tired of pretending like everything is okay when it's not.\", Label='NEG', HumanLabel='NEG'), NegativeRow(Text=\"Another day of feeling like I'm not good enough. Fun times.\", Label='NEG', HumanLabel='NEG'), NegativeRow(Text='I keep falling for the illusion that things might change, but they never do.', Label='NEG', HumanLabel='NEG'), NegativeRow(Text=\"Why do I keep hoping for a positive outcome when it's just not going to happen?\", Label='NEG', HumanLabel='NEG'), NegativeRow(Text=\"Feels like I'm constantly drowning while everyone else seems to be doing just fine.\", Label='NEG', HumanLabel='NEG'), NegativeRow(Text='Fed up with giving everything and getting absolutely nothing in return.', Label='NEG', HumanLabel='NEG'), NegativeRow(Text=\"There's no point in even trying to fix things when they keep falling apart.\", Label='NEG', HumanLabel='NEG'), NegativeRow(Text=\"Guess I'll just have to accept that nothing will ever go my way.\", Label='NEG', HumanLabel='NEG'), NegativeRow(Text=\"I've stopped holding out hope for a reason, because it's always pointless.\", Label='NEG', HumanLabel='NEG'), NegativeRow(Text='Every time I think things might be alright, they crumble right in front of me.', Label='NEG', HumanLabel='NEG'), NegativeRow(Text=\"I'm convinced that bad luck is just my destiny at this point.\", Label='NEG', HumanLabel='NEG'), NegativeRow(Text='Giving up hope seems to be the only logical option at this stage.', Label='NEG', HumanLabel='NEG'), NegativeRow(Text=\"Honestly, it's hard to find anything good when everything's so relentlessly bleak.\", Label='NEG', HumanLabel='NEG'), NegativeRow(Text='Yet another reminder that life seems determined to screw me over.', Label='NEG', HumanLabel='NEG'), NegativeRow(Text='I just wish things could be different, but that seems too much to ask.', Label='NEG', HumanLabel='NEG'), NegativeRow(Text=\"Being optimistic only sets you up for disappointment, I've learnt that the hard way.\", Label='NEG', HumanLabel='NEG'), NegativeRow(Text=\"It's like taking two steps forward just to be shoved three steps back.\", Label='NEG', HumanLabel='NEG'), NegativeRow(Text=\"I've stopped deluding myself into thinking there's any hope for improvement.\", Label='NEG', HumanLabel='NEG'), NegativeRow(Text='All I ever seem to do is let myself and everyone else down.', Label='NEG', HumanLabel='NEG'), NegativeRow(Text=\"I've come to terms with the fact that happiness just isn't in the cards for me.\", Label='NEG', HumanLabel='NEG'), NegativeRow(Text='Honestly finding it hard to believe that this is how things are supposed to be.', Label='NEG', HumanLabel='NEG'), NegativeRow(Text='Feels like the universe has some personal vendetta against me. Fantastic.', Label='NEG', HumanLabel='NEG'), NegativeRow(Text=\"Every single time, it's just more of the same sadness and regret.\", Label='NEG', HumanLabel='NEG'), NegativeRow(Text='Getting out of bed is a victory when everything feels so pointless.', Label='NEG', HumanLabel='NEG'), NegativeRow(Text=\"I've learnt that trying is futile when everything's set against you.\", Label='NEG', HumanLabel='NEG'), NegativeRow(Text='Hoping for something different is just wishful thinking at this point.', Label='NEG', HumanLabel='NEG'), NegativeRow(Text=\"I guess I'm just not meant to have happy endings no matter how much I want them.\", Label='NEG', HumanLabel='NEG'), NegativeRow(Text=\"I'm beginning to think I'm just a walking disaster.\", Label='NEG', HumanLabel='NEG'), NegativeRow(Text=\"It's genuinely tough not having anyone who understands what you're going through.\", Label='NEG', HumanLabel='NEG'), NegativeRow(Text='Yet another reminder that life is just not on my side.', Label='NEG', HumanLabel='NEG'), NegativeRow(Text='Seeing others succeed while I fail over and over is maddening.', Label='NEG', HumanLabel='NEG'), NegativeRow(Text=\"Tired of pretending like it's all okay when inside I feel completely broken.\", Label='NEG', HumanLabel='NEG'), NegativeRow(Text=\"No matter how hard I try, it just feels like I'm falling deeper into a hole.\", Label='NEG', HumanLabel='NEG'), NegativeRow(Text=\"I've lost faith that things will ever change for the better.\", Label='NEG', HumanLabel='NEG'), NegativeRow(Text=\"It's easier to expect the worst because it's always what I end up getting.\", Label='NEG', HumanLabel='NEG'), NegativeRow(Text='Feeling utterly defeated by life and its innumerable challenges.', Label='NEG', HumanLabel='NEG'), NegativeRow(Text=\"Wishing I could just press 'restart' because nothing ever works out.\", Label='NEG', HumanLabel='NEG'), NegativeRow(Text='No matter how much I try, happiness always seems just out of reach.', Label='NEG', HumanLabel='NEG'), NegativeRow(Text=\"I'm tired of holding onto expectations only to be let down repeatedly.\", Label='NEG', HumanLabel='NEG')]\n"
     ]
    }
   ],
   "source": [
    "from langchain_core.pydantic_v1 import BaseModel, Field\n",
    "from typing import Literal, List\n",
    "from langchain_openai import ChatOpenAI\n",
    "import pandas as pd \n",
    "import os\n",
    "from dotenv import load_dotenv\n",
    "\n",
    "load_dotenv()\n",
    "\n",
    "df_reddit_labeled = pd.read_csv(\"reddit_labeled.csv\")\n",
    "sample_neg_examples = df_reddit_labeled[df_reddit_labeled[\"Label\"] == \"NEG\"][\"Text\"].tolist()\n",
    "sample_neg_examples = sample_neg_examples[:8]\n",
    "\n",
    "class NegativeRow(BaseModel):\n",
    "    Text: str = Field(description=\"Text to classify\")\n",
    "    Label: Literal[\"NEG\"] = Field(description=\"Label for the text\")\n",
    "    HumanLabel: Literal[\"NEG\"] = Field(description=\"Human label for the text\")\n",
    "    \n",
    "class NegativeExample(BaseModel):\n",
    "    Data: List[NegativeRow] = Field(description=\"List of negative rows\")\n",
    "\n",
    "# prompt generated by gpt-4o\n",
    "prompt = \"\"\"\n",
    "You are an expert in generating synthetic textual data that mimics the style of Reddit posts/comments.\n",
    "Below are a few examples of posts/comments with clearly negative sentiment (NEG):\n",
    "{examples}\n",
    "\n",
    "Based on these examples, generate 50 new and unique synthetic Reddit posts/comments that clearly express negative sentiment (NEG). \n",
    "Each post should mimic the style and tone of the examples above.\n",
    "For each generated post, output an object with the following keys:\n",
    "    \"Text\": the generated post/comment text,\n",
    "    \"Label\": set to \"NEG\",\n",
    "    \"HumanLabel\": set to \"NEG\".\n",
    "Output the resulting list as a JSON array.\n",
    "\"\"\".format(examples = \"\".join(f\"- {ex}\\n\" for ex in sample_neg_examples))\n",
    "\n",
    "model = ChatOpenAI(model=\"gpt-4o\", api_key = os.environ['OPENAI_API_KEY'])\n",
    "structured_model = model.with_structured_output(NegativeExample)\n",
    "df_reddit_sampled = df_reddit_labeled[:500]\n",
    "human_label = []\n",
    "\n",
    "i = 1\n",
    "text_list = []\n",
    "label_list = []\n",
    "human_label_list = []\n",
    "output = structured_model.invoke(prompt)\n",
    "print(output)"
   ]
  },
  {
   "cell_type": "code",
   "execution_count": null,
   "metadata": {},
   "outputs": [],
   "source": [
    "from datetime import datetime\n",
    "import uuid\n",
    "import pandas as pd\n",
    "\n",
    "total_examples = len(output.Data)\n",
    "text_list = []\n",
    "label_list = []\n",
    "human_label_list = []\n",
    "\n",
    "for i in range(total_examples):\n",
    "    text_list.append(output.Data[i].Text)\n",
    "    label_list.append(output.Data[i].Label)\n",
    "    human_label_list.append(output.Data[i].HumanLabel)\n",
    "    \n",
    "df_synthetic = pd.DataFrame({\n",
    "    'Text': text_list,\n",
    "    'Label': label_list,\n",
    "    'HumanLabel': human_label_list\n",
    "})\n",
    "\n",
    "df_synthetic['Id'] = [str(uuid.uuid4()) for _ in range(len(df_synthetic))]\n",
    "df_synthetic['Created'] = datetime.now().strftime('%Y-%m-%d %H:%M:%S')\n",
    "\n",
    "if 'Unnamed: 0' in df_reddit_labeled.columns:\n",
    "    start_idx = df_reddit_labeled['Unnamed: 0'].max() + 1\n",
    "    df_synthetic['Unnamed: 0'] = range(start_idx, start_idx + len(df_synthetic))\n",
    "    \n",
    "# shuffle the synthetic data\n",
    "df_synthetic = df_synthetic[df_reddit_labeled.columns]\n",
    "df_augmented = pd.concat([df_reddit_labeled, df_synthetic], ignore_index=True)\n",
    "df_augmented = df_augmented.sample(frac=1).reset_index(drop=True)"
   ]
  },
  {
   "cell_type": "code",
   "execution_count": null,
   "metadata": {},
   "outputs": [],
   "source": [
    "df_augmented.to_csv(\"reddit_labeled_augmented.csv\")"
   ]
  },
  {
   "cell_type": "code",
   "execution_count": null,
   "metadata": {},
   "outputs": [],
   "source": []
  }
 ],
 "metadata": {
  "kernelspec": {
   "display_name": "Python 3",
   "language": "python",
   "name": "python3"
  },
  "language_info": {
   "codemirror_mode": {
    "name": "ipython",
    "version": 3
   },
   "file_extension": ".py",
   "mimetype": "text/x-python",
   "name": "python",
   "nbconvert_exporter": "python",
   "pygments_lexer": "ipython3",
   "version": "3.11.5"
  }
 },
 "nbformat": 4,
 "nbformat_minor": 2
}
