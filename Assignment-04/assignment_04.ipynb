{
 "cells": [
  {
   "cell_type": "markdown",
   "id": "f99a8a55",
   "metadata": {},
   "source": [
    "# Group Project / Assignment 4: Instruction finetuning a Llama-3.2 model\n",
    "**Assignment due 21 April 11:59pm**\n",
    "\n",
    "Welcome to the fourth and final assignment for 50.055 Machine Learning Operations. The third and fourth assignment together form the course group project. You will continue the work on a chatbot which can answer questions about SUTD to prospective students.\n",
    "\n",
    "\n",
    "**This assignment is a group assignment.**\n",
    "\n",
    "- Read the instructions in this notebook carefully\n",
    "- Add your solution code and answers in the appropriate places. The questions are marked as **QUESTION:**, the places where you need to add your code and text answers are marked as **ADD YOUR SOLUTION HERE**. The assignment is more open-ended than previous assignments, i.e. you have more freedom how to solve the problem and how to structure your code.\n",
    "- The completed notebook, including your added code and generated output will be your submission for the assignment.\n",
    "- The notebook should execute without errors from start to finish when you select \"Restart Kernel and Run All Cells..\". Please test this before submission.\n",
    "- Use the SUTD Education Cluster to solve and test the assignment. If you work on another environment, minimally test your work on the SUTD Education Cluster.\n",
    "\n",
    "**Rubric for assessment** \n",
    "\n",
    "Your submission will be graded using the following criteria. \n",
    "1. Code executes: your code should execute without errors. The SUTD Education cluster should be used to ensure the same execution environment.\n",
    "2. Correctness: the code should produce the correct result or the text answer should state the factual correct answer.\n",
    "3. Style: your code should be written in a way that is clean and efficient. Your text answers should be relevant, concise and easy to understand.\n",
    "4. Partial marks will be awarded for partially correct solutions.\n",
    "5. Creativity and innovation: in this assignment you have more freedom to design your solution, compared to the first assignments. You can show of your creativity and innovative mindset. \n",
    "6. There is a maximum of 310 points for this assignment.\n",
    "\n",
    "**ChatGPT policy** \n",
    "\n",
    "If you use AI tools, such as ChatGPT, to solve the assignment questions, you need to be transparent about its use and mark AI-generated content as such. In particular, you should include the following in addition to your final answer:\n",
    "- A copy or screenshot of the prompt you used\n",
    "- The name of the AI model\n",
    "- The AI generated output\n",
    "- An explanation why the answer is correct or what you had to change to arrive at the correct answer\n",
    "\n",
    "**Assignment Notes:** Please make sure to save the notebook as you go along. Submission Instructions are located at the bottom of the notebook.\n",
    "\n"
   ]
  },
  {
   "cell_type": "markdown",
   "id": "dae5e449",
   "metadata": {},
   "source": [
    "### Finetuning LLMs\n",
    "\n",
    "The goal of the assignment is to build a more advanced chatbot that can talk to prospective students and answer questions about SUTD.\n",
    "\n",
    "We will finetune a smaller 1B LLM on question-answer pairs which we synthetically generate. Then we will compare the finetuned and non-finetuned LLMs with and without RAG to see if we were able to improve the SUTD chatbot answer quality. \n",
    "\n",
    "We'll be leveraging `langchain`, `llama 3.2` and `Google AI STudio with Gemini 2.0`.\n",
    "\n",
    "Check out the docs:\n",
    "- [LangChain](https://docs.langchain.com/docs/)\n",
    "- [Llama 3.2](https://www.llama.com/docs/model-cards-and-prompt-formats/llama3_2/)\n",
    "- [Google AI Studio](https://aistudio.google.com/)\n",
    "\n",
    "Note: Google AI Studio provides a lot of free tokens but has certain rate limits. Write your code in a way that it can handle these limits."
   ]
  },
  {
   "cell_type": "markdown",
   "id": "62530070",
   "metadata": {},
   "source": [
    "# Install dependencies\n",
    "Use pip to install all required dependencies of this assignment in the cell below. Make sure to test this on the SUTD cluster as different environments have different software pre-installed.  "
   ]
  },
  {
   "cell_type": "code",
   "execution_count": 16,
   "id": "4ec75011-c8ef-4c31-9766-2e3e9834684f",
   "metadata": {},
   "outputs": [
    {
     "name": "stdout",
     "output_type": "stream",
     "text": [
      "Looking in indexes: https://download.pytorch.org/whl/cu118\n",
      "Requirement already satisfied: torch in c:\\users\\adity\\desktop\\sutd_5055mlop\\.venv\\lib\\site-packages (2.6.0+cu118)\n",
      "Requirement already satisfied: torchvision in c:\\users\\adity\\desktop\\sutd_5055mlop\\.venv\\lib\\site-packages (0.21.0+cu118)\n",
      "Requirement already satisfied: torchaudio in c:\\users\\adity\\desktop\\sutd_5055mlop\\.venv\\lib\\site-packages (2.6.0+cu118)\n",
      "Requirement already satisfied: filelock in c:\\users\\adity\\desktop\\sutd_5055mlop\\.venv\\lib\\site-packages (from torch) (3.13.1)\n",
      "Requirement already satisfied: typing-extensions>=4.10.0 in c:\\users\\adity\\desktop\\sutd_5055mlop\\.venv\\lib\\site-packages (from torch) (4.13.2)\n",
      "Requirement already satisfied: networkx in c:\\users\\adity\\desktop\\sutd_5055mlop\\.venv\\lib\\site-packages (from torch) (3.3)\n",
      "Requirement already satisfied: jinja2 in c:\\users\\adity\\desktop\\sutd_5055mlop\\.venv\\lib\\site-packages (from torch) (3.1.4)\n",
      "Requirement already satisfied: fsspec in c:\\users\\adity\\desktop\\sutd_5055mlop\\.venv\\lib\\site-packages (from torch) (2024.6.1)\n",
      "Requirement already satisfied: sympy==1.13.1 in c:\\users\\adity\\desktop\\sutd_5055mlop\\.venv\\lib\\site-packages (from torch) (1.13.1)\n",
      "Requirement already satisfied: mpmath<1.4,>=1.1.0 in c:\\users\\adity\\desktop\\sutd_5055mlop\\.venv\\lib\\site-packages (from sympy==1.13.1->torch) (1.3.0)\n",
      "Requirement already satisfied: numpy in c:\\users\\adity\\desktop\\sutd_5055mlop\\.venv\\lib\\site-packages (from torchvision) (2.1.2)\n",
      "Requirement already satisfied: pillow!=8.3.*,>=5.3.0 in c:\\users\\adity\\desktop\\sutd_5055mlop\\.venv\\lib\\site-packages (from torchvision) (11.0.0)\n",
      "Requirement already satisfied: MarkupSafe>=2.0 in c:\\users\\adity\\desktop\\sutd_5055mlop\\.venv\\lib\\site-packages (from jinja2->torch) (2.1.5)\n",
      "Requirement already satisfied: transformers in c:\\users\\adity\\desktop\\sutd_5055mlop\\.venv\\lib\\site-packages (4.51.2)\n",
      "Requirement already satisfied: filelock in c:\\users\\adity\\desktop\\sutd_5055mlop\\.venv\\lib\\site-packages (from transformers) (3.13.1)\n",
      "Requirement already satisfied: huggingface-hub<1.0,>=0.30.0 in c:\\users\\adity\\desktop\\sutd_5055mlop\\.venv\\lib\\site-packages (from transformers) (0.30.2)\n",
      "Requirement already satisfied: numpy>=1.17 in c:\\users\\adity\\desktop\\sutd_5055mlop\\.venv\\lib\\site-packages (from transformers) (2.1.2)\n",
      "Requirement already satisfied: packaging>=20.0 in c:\\users\\adity\\desktop\\sutd_5055mlop\\.venv\\lib\\site-packages (from transformers) (24.2)\n",
      "Requirement already satisfied: pyyaml>=5.1 in c:\\users\\adity\\desktop\\sutd_5055mlop\\.venv\\lib\\site-packages (from transformers) (6.0.2)\n",
      "Requirement already satisfied: regex!=2019.12.17 in c:\\users\\adity\\desktop\\sutd_5055mlop\\.venv\\lib\\site-packages (from transformers) (2024.11.6)\n",
      "Requirement already satisfied: requests in c:\\users\\adity\\desktop\\sutd_5055mlop\\.venv\\lib\\site-packages (from transformers) (2.32.3)\n",
      "Requirement already satisfied: tokenizers<0.22,>=0.21 in c:\\users\\adity\\desktop\\sutd_5055mlop\\.venv\\lib\\site-packages (from transformers) (0.21.1)\n",
      "Requirement already satisfied: safetensors>=0.4.3 in c:\\users\\adity\\desktop\\sutd_5055mlop\\.venv\\lib\\site-packages (from transformers) (0.5.3)\n",
      "Requirement already satisfied: tqdm>=4.27 in c:\\users\\adity\\desktop\\sutd_5055mlop\\.venv\\lib\\site-packages (from transformers) (4.67.1)\n",
      "Requirement already satisfied: fsspec>=2023.5.0 in c:\\users\\adity\\desktop\\sutd_5055mlop\\.venv\\lib\\site-packages (from huggingface-hub<1.0,>=0.30.0->transformers) (2024.6.1)\n",
      "Requirement already satisfied: typing-extensions>=3.7.4.3 in c:\\users\\adity\\desktop\\sutd_5055mlop\\.venv\\lib\\site-packages (from huggingface-hub<1.0,>=0.30.0->transformers) (4.13.2)\n",
      "Requirement already satisfied: colorama in c:\\users\\adity\\desktop\\sutd_5055mlop\\.venv\\lib\\site-packages (from tqdm>=4.27->transformers) (0.4.6)\n",
      "Requirement already satisfied: charset-normalizer<4,>=2 in c:\\users\\adity\\desktop\\sutd_5055mlop\\.venv\\lib\\site-packages (from requests->transformers) (3.4.1)\n",
      "Requirement already satisfied: idna<4,>=2.5 in c:\\users\\adity\\desktop\\sutd_5055mlop\\.venv\\lib\\site-packages (from requests->transformers) (3.10)\n",
      "Requirement already satisfied: urllib3<3,>=1.21.1 in c:\\users\\adity\\desktop\\sutd_5055mlop\\.venv\\lib\\site-packages (from requests->transformers) (2.4.0)\n",
      "Requirement already satisfied: certifi>=2017.4.17 in c:\\users\\adity\\desktop\\sutd_5055mlop\\.venv\\lib\\site-packages (from requests->transformers) (2025.1.31)\n",
      "Requirement already satisfied: datasets in c:\\users\\adity\\desktop\\sutd_5055mlop\\.venv\\lib\\site-packages (3.5.0)\n",
      "Requirement already satisfied: filelock in c:\\users\\adity\\desktop\\sutd_5055mlop\\.venv\\lib\\site-packages (from datasets) (3.13.1)\n",
      "Requirement already satisfied: numpy>=1.17 in c:\\users\\adity\\desktop\\sutd_5055mlop\\.venv\\lib\\site-packages (from datasets) (2.1.2)\n",
      "Requirement already satisfied: pyarrow>=15.0.0 in c:\\users\\adity\\desktop\\sutd_5055mlop\\.venv\\lib\\site-packages (from datasets) (19.0.1)\n",
      "Requirement already satisfied: dill<0.3.9,>=0.3.0 in c:\\users\\adity\\desktop\\sutd_5055mlop\\.venv\\lib\\site-packages (from datasets) (0.3.8)\n",
      "Requirement already satisfied: pandas in c:\\users\\adity\\desktop\\sutd_5055mlop\\.venv\\lib\\site-packages (from datasets) (2.2.3)\n",
      "Requirement already satisfied: requests>=2.32.2 in c:\\users\\adity\\desktop\\sutd_5055mlop\\.venv\\lib\\site-packages (from datasets) (2.32.3)\n",
      "Requirement already satisfied: tqdm>=4.66.3 in c:\\users\\adity\\desktop\\sutd_5055mlop\\.venv\\lib\\site-packages (from datasets) (4.67.1)\n",
      "Requirement already satisfied: xxhash in c:\\users\\adity\\desktop\\sutd_5055mlop\\.venv\\lib\\site-packages (from datasets) (3.5.0)\n",
      "Requirement already satisfied: multiprocess<0.70.17 in c:\\users\\adity\\desktop\\sutd_5055mlop\\.venv\\lib\\site-packages (from datasets) (0.70.16)\n",
      "Requirement already satisfied: fsspec<=2024.12.0,>=2023.1.0 in c:\\users\\adity\\desktop\\sutd_5055mlop\\.venv\\lib\\site-packages (from fsspec[http]<=2024.12.0,>=2023.1.0->datasets) (2024.6.1)\n",
      "Requirement already satisfied: aiohttp in c:\\users\\adity\\desktop\\sutd_5055mlop\\.venv\\lib\\site-packages (from datasets) (3.11.16)\n",
      "Requirement already satisfied: huggingface-hub>=0.24.0 in c:\\users\\adity\\desktop\\sutd_5055mlop\\.venv\\lib\\site-packages (from datasets) (0.30.2)\n",
      "Requirement already satisfied: packaging in c:\\users\\adity\\desktop\\sutd_5055mlop\\.venv\\lib\\site-packages (from datasets) (24.2)\n",
      "Requirement already satisfied: pyyaml>=5.1 in c:\\users\\adity\\desktop\\sutd_5055mlop\\.venv\\lib\\site-packages (from datasets) (6.0.2)\n",
      "Requirement already satisfied: aiohappyeyeballs>=2.3.0 in c:\\users\\adity\\desktop\\sutd_5055mlop\\.venv\\lib\\site-packages (from aiohttp->datasets) (2.6.1)\n",
      "Requirement already satisfied: aiosignal>=1.1.2 in c:\\users\\adity\\desktop\\sutd_5055mlop\\.venv\\lib\\site-packages (from aiohttp->datasets) (1.3.2)\n",
      "Requirement already satisfied: attrs>=17.3.0 in c:\\users\\adity\\desktop\\sutd_5055mlop\\.venv\\lib\\site-packages (from aiohttp->datasets) (25.3.0)\n",
      "Requirement already satisfied: frozenlist>=1.1.1 in c:\\users\\adity\\desktop\\sutd_5055mlop\\.venv\\lib\\site-packages (from aiohttp->datasets) (1.5.0)\n",
      "Requirement already satisfied: multidict<7.0,>=4.5 in c:\\users\\adity\\desktop\\sutd_5055mlop\\.venv\\lib\\site-packages (from aiohttp->datasets) (6.4.3)\n",
      "Requirement already satisfied: propcache>=0.2.0 in c:\\users\\adity\\desktop\\sutd_5055mlop\\.venv\\lib\\site-packages (from aiohttp->datasets) (0.3.1)\n",
      "Requirement already satisfied: yarl<2.0,>=1.17.0 in c:\\users\\adity\\desktop\\sutd_5055mlop\\.venv\\lib\\site-packages (from aiohttp->datasets) (1.19.0)\n",
      "Requirement already satisfied: typing-extensions>=3.7.4.3 in c:\\users\\adity\\desktop\\sutd_5055mlop\\.venv\\lib\\site-packages (from huggingface-hub>=0.24.0->datasets) (4.13.2)\n",
      "Requirement already satisfied: charset-normalizer<4,>=2 in c:\\users\\adity\\desktop\\sutd_5055mlop\\.venv\\lib\\site-packages (from requests>=2.32.2->datasets) (3.4.1)\n",
      "Requirement already satisfied: idna<4,>=2.5 in c:\\users\\adity\\desktop\\sutd_5055mlop\\.venv\\lib\\site-packages (from requests>=2.32.2->datasets) (3.10)\n",
      "Requirement already satisfied: urllib3<3,>=1.21.1 in c:\\users\\adity\\desktop\\sutd_5055mlop\\.venv\\lib\\site-packages (from requests>=2.32.2->datasets) (2.4.0)\n",
      "Requirement already satisfied: certifi>=2017.4.17 in c:\\users\\adity\\desktop\\sutd_5055mlop\\.venv\\lib\\site-packages (from requests>=2.32.2->datasets) (2025.1.31)\n",
      "Requirement already satisfied: colorama in c:\\users\\adity\\desktop\\sutd_5055mlop\\.venv\\lib\\site-packages (from tqdm>=4.66.3->datasets) (0.4.6)\n",
      "Requirement already satisfied: python-dateutil>=2.8.2 in c:\\users\\adity\\desktop\\sutd_5055mlop\\.venv\\lib\\site-packages (from pandas->datasets) (2.9.0.post0)\n",
      "Requirement already satisfied: pytz>=2020.1 in c:\\users\\adity\\desktop\\sutd_5055mlop\\.venv\\lib\\site-packages (from pandas->datasets) (2025.2)\n",
      "Requirement already satisfied: tzdata>=2022.7 in c:\\users\\adity\\desktop\\sutd_5055mlop\\.venv\\lib\\site-packages (from pandas->datasets) (2025.2)\n",
      "Requirement already satisfied: six>=1.5 in c:\\users\\adity\\desktop\\sutd_5055mlop\\.venv\\lib\\site-packages (from python-dateutil>=2.8.2->pandas->datasets) (1.17.0)\n",
      "Requirement already satisfied: accelerate in c:\\users\\adity\\desktop\\sutd_5055mlop\\.venv\\lib\\site-packages (1.6.0)\n",
      "Requirement already satisfied: numpy<3.0.0,>=1.17 in c:\\users\\adity\\desktop\\sutd_5055mlop\\.venv\\lib\\site-packages (from accelerate) (2.1.2)\n",
      "Requirement already satisfied: packaging>=20.0 in c:\\users\\adity\\desktop\\sutd_5055mlop\\.venv\\lib\\site-packages (from accelerate) (24.2)\n",
      "Requirement already satisfied: psutil in c:\\users\\adity\\desktop\\sutd_5055mlop\\.venv\\lib\\site-packages (from accelerate) (7.0.0)\n",
      "Requirement already satisfied: pyyaml in c:\\users\\adity\\desktop\\sutd_5055mlop\\.venv\\lib\\site-packages (from accelerate) (6.0.2)\n",
      "Requirement already satisfied: torch>=2.0.0 in c:\\users\\adity\\desktop\\sutd_5055mlop\\.venv\\lib\\site-packages (from accelerate) (2.6.0+cu118)\n",
      "Requirement already satisfied: huggingface-hub>=0.21.0 in c:\\users\\adity\\desktop\\sutd_5055mlop\\.venv\\lib\\site-packages (from accelerate) (0.30.2)\n",
      "Requirement already satisfied: safetensors>=0.4.3 in c:\\users\\adity\\desktop\\sutd_5055mlop\\.venv\\lib\\site-packages (from accelerate) (0.5.3)\n",
      "Requirement already satisfied: filelock in c:\\users\\adity\\desktop\\sutd_5055mlop\\.venv\\lib\\site-packages (from huggingface-hub>=0.21.0->accelerate) (3.13.1)\n",
      "Requirement already satisfied: fsspec>=2023.5.0 in c:\\users\\adity\\desktop\\sutd_5055mlop\\.venv\\lib\\site-packages (from huggingface-hub>=0.21.0->accelerate) (2024.6.1)\n",
      "Requirement already satisfied: requests in c:\\users\\adity\\desktop\\sutd_5055mlop\\.venv\\lib\\site-packages (from huggingface-hub>=0.21.0->accelerate) (2.32.3)\n",
      "Requirement already satisfied: tqdm>=4.42.1 in c:\\users\\adity\\desktop\\sutd_5055mlop\\.venv\\lib\\site-packages (from huggingface-hub>=0.21.0->accelerate) (4.67.1)\n",
      "Requirement already satisfied: typing-extensions>=3.7.4.3 in c:\\users\\adity\\desktop\\sutd_5055mlop\\.venv\\lib\\site-packages (from huggingface-hub>=0.21.0->accelerate) (4.13.2)\n",
      "Requirement already satisfied: networkx in c:\\users\\adity\\desktop\\sutd_5055mlop\\.venv\\lib\\site-packages (from torch>=2.0.0->accelerate) (3.3)\n",
      "Requirement already satisfied: jinja2 in c:\\users\\adity\\desktop\\sutd_5055mlop\\.venv\\lib\\site-packages (from torch>=2.0.0->accelerate) (3.1.4)\n",
      "Requirement already satisfied: sympy==1.13.1 in c:\\users\\adity\\desktop\\sutd_5055mlop\\.venv\\lib\\site-packages (from torch>=2.0.0->accelerate) (1.13.1)\n",
      "Requirement already satisfied: mpmath<1.4,>=1.1.0 in c:\\users\\adity\\desktop\\sutd_5055mlop\\.venv\\lib\\site-packages (from sympy==1.13.1->torch>=2.0.0->accelerate) (1.3.0)\n",
      "Requirement already satisfied: colorama in c:\\users\\adity\\desktop\\sutd_5055mlop\\.venv\\lib\\site-packages (from tqdm>=4.42.1->huggingface-hub>=0.21.0->accelerate) (0.4.6)\n",
      "Requirement already satisfied: MarkupSafe>=2.0 in c:\\users\\adity\\desktop\\sutd_5055mlop\\.venv\\lib\\site-packages (from jinja2->torch>=2.0.0->accelerate) (2.1.5)\n",
      "Requirement already satisfied: charset-normalizer<4,>=2 in c:\\users\\adity\\desktop\\sutd_5055mlop\\.venv\\lib\\site-packages (from requests->huggingface-hub>=0.21.0->accelerate) (3.4.1)\n",
      "Requirement already satisfied: idna<4,>=2.5 in c:\\users\\adity\\desktop\\sutd_5055mlop\\.venv\\lib\\site-packages (from requests->huggingface-hub>=0.21.0->accelerate) (3.10)\n",
      "Requirement already satisfied: urllib3<3,>=1.21.1 in c:\\users\\adity\\desktop\\sutd_5055mlop\\.venv\\lib\\site-packages (from requests->huggingface-hub>=0.21.0->accelerate) (2.4.0)\n",
      "Requirement already satisfied: certifi>=2017.4.17 in c:\\users\\adity\\desktop\\sutd_5055mlop\\.venv\\lib\\site-packages (from requests->huggingface-hub>=0.21.0->accelerate) (2025.1.31)\n",
      "Requirement already satisfied: huggingface_hub in c:\\users\\adity\\desktop\\sutd_5055mlop\\.venv\\lib\\site-packages (0.30.2)\n",
      "Requirement already satisfied: filelock in c:\\users\\adity\\desktop\\sutd_5055mlop\\.venv\\lib\\site-packages (from huggingface_hub) (3.13.1)\n",
      "Requirement already satisfied: fsspec>=2023.5.0 in c:\\users\\adity\\desktop\\sutd_5055mlop\\.venv\\lib\\site-packages (from huggingface_hub) (2024.6.1)\n",
      "Requirement already satisfied: packaging>=20.9 in c:\\users\\adity\\desktop\\sutd_5055mlop\\.venv\\lib\\site-packages (from huggingface_hub) (24.2)\n",
      "Requirement already satisfied: pyyaml>=5.1 in c:\\users\\adity\\desktop\\sutd_5055mlop\\.venv\\lib\\site-packages (from huggingface_hub) (6.0.2)\n",
      "Requirement already satisfied: requests in c:\\users\\adity\\desktop\\sutd_5055mlop\\.venv\\lib\\site-packages (from huggingface_hub) (2.32.3)\n",
      "Requirement already satisfied: tqdm>=4.42.1 in c:\\users\\adity\\desktop\\sutd_5055mlop\\.venv\\lib\\site-packages (from huggingface_hub) (4.67.1)\n",
      "Requirement already satisfied: typing-extensions>=3.7.4.3 in c:\\users\\adity\\desktop\\sutd_5055mlop\\.venv\\lib\\site-packages (from huggingface_hub) (4.13.2)\n",
      "Requirement already satisfied: colorama in c:\\users\\adity\\desktop\\sutd_5055mlop\\.venv\\lib\\site-packages (from tqdm>=4.42.1->huggingface_hub) (0.4.6)\n",
      "Requirement already satisfied: charset-normalizer<4,>=2 in c:\\users\\adity\\desktop\\sutd_5055mlop\\.venv\\lib\\site-packages (from requests->huggingface_hub) (3.4.1)\n",
      "Requirement already satisfied: idna<4,>=2.5 in c:\\users\\adity\\desktop\\sutd_5055mlop\\.venv\\lib\\site-packages (from requests->huggingface_hub) (3.10)\n",
      "Requirement already satisfied: urllib3<3,>=1.21.1 in c:\\users\\adity\\desktop\\sutd_5055mlop\\.venv\\lib\\site-packages (from requests->huggingface_hub) (2.4.0)\n",
      "Requirement already satisfied: certifi>=2017.4.17 in c:\\users\\adity\\desktop\\sutd_5055mlop\\.venv\\lib\\site-packages (from requests->huggingface_hub) (2025.1.31)\n",
      "Requirement already satisfied: langchain in c:\\users\\adity\\desktop\\sutd_5055mlop\\.venv\\lib\\site-packages (0.3.23)\n",
      "Requirement already satisfied: langchain-core in c:\\users\\adity\\desktop\\sutd_5055mlop\\.venv\\lib\\site-packages (0.3.51)\n",
      "Requirement already satisfied: langchain-community in c:\\users\\adity\\desktop\\sutd_5055mlop\\.venv\\lib\\site-packages (0.3.21)\n",
      "Requirement already satisfied: langchain-experimental in c:\\users\\adity\\desktop\\sutd_5055mlop\\.venv\\lib\\site-packages (0.3.4)\n",
      "Requirement already satisfied: langchain-google-genai in c:\\users\\adity\\desktop\\sutd_5055mlop\\.venv\\lib\\site-packages (2.1.2)\n",
      "Requirement already satisfied: langchain-text-splitters<1.0.0,>=0.3.8 in c:\\users\\adity\\desktop\\sutd_5055mlop\\.venv\\lib\\site-packages (from langchain) (0.3.8)\n",
      "Requirement already satisfied: langsmith<0.4,>=0.1.17 in c:\\users\\adity\\desktop\\sutd_5055mlop\\.venv\\lib\\site-packages (from langchain) (0.3.30)\n",
      "Requirement already satisfied: pydantic<3.0.0,>=2.7.4 in c:\\users\\adity\\desktop\\sutd_5055mlop\\.venv\\lib\\site-packages (from langchain) (2.11.3)\n",
      "Requirement already satisfied: SQLAlchemy<3,>=1.4 in c:\\users\\adity\\desktop\\sutd_5055mlop\\.venv\\lib\\site-packages (from langchain) (2.0.40)\n",
      "Requirement already satisfied: requests<3,>=2 in c:\\users\\adity\\desktop\\sutd_5055mlop\\.venv\\lib\\site-packages (from langchain) (2.32.3)\n",
      "Requirement already satisfied: PyYAML>=5.3 in c:\\users\\adity\\desktop\\sutd_5055mlop\\.venv\\lib\\site-packages (from langchain) (6.0.2)\n",
      "Requirement already satisfied: tenacity!=8.4.0,<10.0.0,>=8.1.0 in c:\\users\\adity\\desktop\\sutd_5055mlop\\.venv\\lib\\site-packages (from langchain-core) (9.1.2)\n",
      "Requirement already satisfied: jsonpatch<2.0,>=1.33 in c:\\users\\adity\\desktop\\sutd_5055mlop\\.venv\\lib\\site-packages (from langchain-core) (1.33)\n",
      "Requirement already satisfied: packaging<25,>=23.2 in c:\\users\\adity\\desktop\\sutd_5055mlop\\.venv\\lib\\site-packages (from langchain-core) (24.2)\n",
      "Requirement already satisfied: typing-extensions>=4.7 in c:\\users\\adity\\desktop\\sutd_5055mlop\\.venv\\lib\\site-packages (from langchain-core) (4.13.2)\n",
      "Requirement already satisfied: aiohttp<4.0.0,>=3.8.3 in c:\\users\\adity\\desktop\\sutd_5055mlop\\.venv\\lib\\site-packages (from langchain-community) (3.11.16)\n",
      "Requirement already satisfied: dataclasses-json<0.7,>=0.5.7 in c:\\users\\adity\\desktop\\sutd_5055mlop\\.venv\\lib\\site-packages (from langchain-community) (0.6.7)\n",
      "Requirement already satisfied: pydantic-settings<3.0.0,>=2.4.0 in c:\\users\\adity\\desktop\\sutd_5055mlop\\.venv\\lib\\site-packages (from langchain-community) (2.8.1)\n",
      "Requirement already satisfied: httpx-sse<1.0.0,>=0.4.0 in c:\\users\\adity\\desktop\\sutd_5055mlop\\.venv\\lib\\site-packages (from langchain-community) (0.4.0)\n",
      "Requirement already satisfied: numpy<3,>=1.26.2 in c:\\users\\adity\\desktop\\sutd_5055mlop\\.venv\\lib\\site-packages (from langchain-community) (2.1.2)\n",
      "Requirement already satisfied: filetype<2.0.0,>=1.2.0 in c:\\users\\adity\\desktop\\sutd_5055mlop\\.venv\\lib\\site-packages (from langchain-google-genai) (1.2.0)\n",
      "Collecting google-ai-generativelanguage<0.7.0,>=0.6.16 (from langchain-google-genai)\n",
      "  Using cached google_ai_generativelanguage-0.6.17-py3-none-any.whl.metadata (9.8 kB)\n",
      "Requirement already satisfied: aiohappyeyeballs>=2.3.0 in c:\\users\\adity\\desktop\\sutd_5055mlop\\.venv\\lib\\site-packages (from aiohttp<4.0.0,>=3.8.3->langchain-community) (2.6.1)\n",
      "Requirement already satisfied: aiosignal>=1.1.2 in c:\\users\\adity\\desktop\\sutd_5055mlop\\.venv\\lib\\site-packages (from aiohttp<4.0.0,>=3.8.3->langchain-community) (1.3.2)\n",
      "Requirement already satisfied: attrs>=17.3.0 in c:\\users\\adity\\desktop\\sutd_5055mlop\\.venv\\lib\\site-packages (from aiohttp<4.0.0,>=3.8.3->langchain-community) (25.3.0)\n",
      "Requirement already satisfied: frozenlist>=1.1.1 in c:\\users\\adity\\desktop\\sutd_5055mlop\\.venv\\lib\\site-packages (from aiohttp<4.0.0,>=3.8.3->langchain-community) (1.5.0)\n",
      "Requirement already satisfied: multidict<7.0,>=4.5 in c:\\users\\adity\\desktop\\sutd_5055mlop\\.venv\\lib\\site-packages (from aiohttp<4.0.0,>=3.8.3->langchain-community) (6.4.3)\n",
      "Requirement already satisfied: propcache>=0.2.0 in c:\\users\\adity\\desktop\\sutd_5055mlop\\.venv\\lib\\site-packages (from aiohttp<4.0.0,>=3.8.3->langchain-community) (0.3.1)\n",
      "Requirement already satisfied: yarl<2.0,>=1.17.0 in c:\\users\\adity\\desktop\\sutd_5055mlop\\.venv\\lib\\site-packages (from aiohttp<4.0.0,>=3.8.3->langchain-community) (1.19.0)\n",
      "Requirement already satisfied: marshmallow<4.0.0,>=3.18.0 in c:\\users\\adity\\desktop\\sutd_5055mlop\\.venv\\lib\\site-packages (from dataclasses-json<0.7,>=0.5.7->langchain-community) (3.26.1)\n",
      "Requirement already satisfied: typing-inspect<1,>=0.4.0 in c:\\users\\adity\\desktop\\sutd_5055mlop\\.venv\\lib\\site-packages (from dataclasses-json<0.7,>=0.5.7->langchain-community) (0.9.0)\n",
      "Requirement already satisfied: google-api-core!=2.0.*,!=2.1.*,!=2.10.*,!=2.2.*,!=2.3.*,!=2.4.*,!=2.5.*,!=2.6.*,!=2.7.*,!=2.8.*,!=2.9.*,<3.0.0,>=1.34.1 in c:\\users\\adity\\desktop\\sutd_5055mlop\\.venv\\lib\\site-packages (from google-api-core[grpc]!=2.0.*,!=2.1.*,!=2.10.*,!=2.2.*,!=2.3.*,!=2.4.*,!=2.5.*,!=2.6.*,!=2.7.*,!=2.8.*,!=2.9.*,<3.0.0,>=1.34.1->google-ai-generativelanguage<0.7.0,>=0.6.16->langchain-google-genai) (2.24.2)\n",
      "Requirement already satisfied: google-auth!=2.24.0,!=2.25.0,<3.0.0,>=2.14.1 in c:\\users\\adity\\desktop\\sutd_5055mlop\\.venv\\lib\\site-packages (from google-ai-generativelanguage<0.7.0,>=0.6.16->langchain-google-genai) (2.38.0)\n",
      "Requirement already satisfied: proto-plus<2.0.0,>=1.22.3 in c:\\users\\adity\\desktop\\sutd_5055mlop\\.venv\\lib\\site-packages (from google-ai-generativelanguage<0.7.0,>=0.6.16->langchain-google-genai) (1.26.1)\n",
      "Requirement already satisfied: protobuf!=4.21.0,!=4.21.1,!=4.21.2,!=4.21.3,!=4.21.4,!=4.21.5,<7.0.0,>=3.20.2 in c:\\users\\adity\\desktop\\sutd_5055mlop\\.venv\\lib\\site-packages (from google-ai-generativelanguage<0.7.0,>=0.6.16->langchain-google-genai) (5.29.4)\n",
      "Requirement already satisfied: jsonpointer>=1.9 in c:\\users\\adity\\desktop\\sutd_5055mlop\\.venv\\lib\\site-packages (from jsonpatch<2.0,>=1.33->langchain-core) (3.0.0)\n",
      "Requirement already satisfied: httpx<1,>=0.23.0 in c:\\users\\adity\\desktop\\sutd_5055mlop\\.venv\\lib\\site-packages (from langsmith<0.4,>=0.1.17->langchain) (0.28.1)\n",
      "Requirement already satisfied: orjson<4.0.0,>=3.9.14 in c:\\users\\adity\\desktop\\sutd_5055mlop\\.venv\\lib\\site-packages (from langsmith<0.4,>=0.1.17->langchain) (3.10.16)\n",
      "Requirement already satisfied: requests-toolbelt<2.0.0,>=1.0.0 in c:\\users\\adity\\desktop\\sutd_5055mlop\\.venv\\lib\\site-packages (from langsmith<0.4,>=0.1.17->langchain) (1.0.0)\n",
      "Requirement already satisfied: zstandard<0.24.0,>=0.23.0 in c:\\users\\adity\\desktop\\sutd_5055mlop\\.venv\\lib\\site-packages (from langsmith<0.4,>=0.1.17->langchain) (0.23.0)\n",
      "Requirement already satisfied: annotated-types>=0.6.0 in c:\\users\\adity\\desktop\\sutd_5055mlop\\.venv\\lib\\site-packages (from pydantic<3.0.0,>=2.7.4->langchain) (0.7.0)\n",
      "Requirement already satisfied: pydantic-core==2.33.1 in c:\\users\\adity\\desktop\\sutd_5055mlop\\.venv\\lib\\site-packages (from pydantic<3.0.0,>=2.7.4->langchain) (2.33.1)\n",
      "Requirement already satisfied: typing-inspection>=0.4.0 in c:\\users\\adity\\desktop\\sutd_5055mlop\\.venv\\lib\\site-packages (from pydantic<3.0.0,>=2.7.4->langchain) (0.4.0)\n",
      "Requirement already satisfied: python-dotenv>=0.21.0 in c:\\users\\adity\\desktop\\sutd_5055mlop\\.venv\\lib\\site-packages (from pydantic-settings<3.0.0,>=2.4.0->langchain-community) (1.1.0)\n",
      "Requirement already satisfied: charset-normalizer<4,>=2 in c:\\users\\adity\\desktop\\sutd_5055mlop\\.venv\\lib\\site-packages (from requests<3,>=2->langchain) (3.4.1)\n",
      "Requirement already satisfied: idna<4,>=2.5 in c:\\users\\adity\\desktop\\sutd_5055mlop\\.venv\\lib\\site-packages (from requests<3,>=2->langchain) (3.10)\n",
      "Requirement already satisfied: urllib3<3,>=1.21.1 in c:\\users\\adity\\desktop\\sutd_5055mlop\\.venv\\lib\\site-packages (from requests<3,>=2->langchain) (2.4.0)\n",
      "Requirement already satisfied: certifi>=2017.4.17 in c:\\users\\adity\\desktop\\sutd_5055mlop\\.venv\\lib\\site-packages (from requests<3,>=2->langchain) (2025.1.31)\n",
      "Requirement already satisfied: greenlet>=1 in c:\\users\\adity\\desktop\\sutd_5055mlop\\.venv\\lib\\site-packages (from SQLAlchemy<3,>=1.4->langchain) (3.1.1)\n",
      "Requirement already satisfied: googleapis-common-protos<2.0.0,>=1.56.2 in c:\\users\\adity\\desktop\\sutd_5055mlop\\.venv\\lib\\site-packages (from google-api-core!=2.0.*,!=2.1.*,!=2.10.*,!=2.2.*,!=2.3.*,!=2.4.*,!=2.5.*,!=2.6.*,!=2.7.*,!=2.8.*,!=2.9.*,<3.0.0,>=1.34.1->google-api-core[grpc]!=2.0.*,!=2.1.*,!=2.10.*,!=2.2.*,!=2.3.*,!=2.4.*,!=2.5.*,!=2.6.*,!=2.7.*,!=2.8.*,!=2.9.*,<3.0.0,>=1.34.1->google-ai-generativelanguage<0.7.0,>=0.6.16->langchain-google-genai) (1.69.2)\n",
      "Requirement already satisfied: grpcio<2.0dev,>=1.33.2 in c:\\users\\adity\\desktop\\sutd_5055mlop\\.venv\\lib\\site-packages (from google-api-core[grpc]!=2.0.*,!=2.1.*,!=2.10.*,!=2.2.*,!=2.3.*,!=2.4.*,!=2.5.*,!=2.6.*,!=2.7.*,!=2.8.*,!=2.9.*,<3.0.0,>=1.34.1->google-ai-generativelanguage<0.7.0,>=0.6.16->langchain-google-genai) (1.72.0rc1)\n",
      "Requirement already satisfied: grpcio-status<2.0.dev0,>=1.33.2 in c:\\users\\adity\\desktop\\sutd_5055mlop\\.venv\\lib\\site-packages (from google-api-core[grpc]!=2.0.*,!=2.1.*,!=2.10.*,!=2.2.*,!=2.3.*,!=2.4.*,!=2.5.*,!=2.6.*,!=2.7.*,!=2.8.*,!=2.9.*,<3.0.0,>=1.34.1->google-ai-generativelanguage<0.7.0,>=0.6.16->langchain-google-genai) (1.71.0)\n",
      "Requirement already satisfied: cachetools<6.0,>=2.0.0 in c:\\users\\adity\\desktop\\sutd_5055mlop\\.venv\\lib\\site-packages (from google-auth!=2.24.0,!=2.25.0,<3.0.0,>=2.14.1->google-ai-generativelanguage<0.7.0,>=0.6.16->langchain-google-genai) (5.5.2)\n",
      "Requirement already satisfied: pyasn1-modules>=0.2.1 in c:\\users\\adity\\desktop\\sutd_5055mlop\\.venv\\lib\\site-packages (from google-auth!=2.24.0,!=2.25.0,<3.0.0,>=2.14.1->google-ai-generativelanguage<0.7.0,>=0.6.16->langchain-google-genai) (0.4.2)\n",
      "Requirement already satisfied: rsa<5,>=3.1.4 in c:\\users\\adity\\desktop\\sutd_5055mlop\\.venv\\lib\\site-packages (from google-auth!=2.24.0,!=2.25.0,<3.0.0,>=2.14.1->google-ai-generativelanguage<0.7.0,>=0.6.16->langchain-google-genai) (4.9)\n",
      "Requirement already satisfied: anyio in c:\\users\\adity\\desktop\\sutd_5055mlop\\.venv\\lib\\site-packages (from httpx<1,>=0.23.0->langsmith<0.4,>=0.1.17->langchain) (4.9.0)\n",
      "Requirement already satisfied: httpcore==1.* in c:\\users\\adity\\desktop\\sutd_5055mlop\\.venv\\lib\\site-packages (from httpx<1,>=0.23.0->langsmith<0.4,>=0.1.17->langchain) (1.0.8)\n",
      "Requirement already satisfied: h11<0.15,>=0.13 in c:\\users\\adity\\desktop\\sutd_5055mlop\\.venv\\lib\\site-packages (from httpcore==1.*->httpx<1,>=0.23.0->langsmith<0.4,>=0.1.17->langchain) (0.14.0)\n",
      "Requirement already satisfied: mypy-extensions>=0.3.0 in c:\\users\\adity\\desktop\\sutd_5055mlop\\.venv\\lib\\site-packages (from typing-inspect<1,>=0.4.0->dataclasses-json<0.7,>=0.5.7->langchain-community) (1.0.0)\n",
      "Requirement already satisfied: pyasn1<0.7.0,>=0.6.1 in c:\\users\\adity\\desktop\\sutd_5055mlop\\.venv\\lib\\site-packages (from pyasn1-modules>=0.2.1->google-auth!=2.24.0,!=2.25.0,<3.0.0,>=2.14.1->google-ai-generativelanguage<0.7.0,>=0.6.16->langchain-google-genai) (0.6.1)\n",
      "Requirement already satisfied: sniffio>=1.1 in c:\\users\\adity\\desktop\\sutd_5055mlop\\.venv\\lib\\site-packages (from anyio->httpx<1,>=0.23.0->langsmith<0.4,>=0.1.17->langchain) (1.3.1)\n",
      "Using cached google_ai_generativelanguage-0.6.17-py3-none-any.whl (1.4 MB)\n",
      "Installing collected packages: google-ai-generativelanguage\n",
      "  Attempting uninstall: google-ai-generativelanguage\n",
      "    Found existing installation: google-ai-generativelanguage 0.6.15\n",
      "    Uninstalling google-ai-generativelanguage-0.6.15:\n",
      "      Successfully uninstalled google-ai-generativelanguage-0.6.15\n",
      "Successfully installed google-ai-generativelanguage-0.6.17\n"
     ]
    },
    {
     "name": "stderr",
     "output_type": "stream",
     "text": [
      "ERROR: pip's dependency resolver does not currently take into account all the packages that are installed. This behaviour is the source of the following dependency conflicts.\n",
      "google-generativeai 0.8.4 requires google-ai-generativelanguage==0.6.15, but you have google-ai-generativelanguage 0.6.17 which is incompatible.\n"
     ]
    },
    {
     "name": "stdout",
     "output_type": "stream",
     "text": [
      "Requirement already satisfied: google-generativeai in c:\\users\\adity\\desktop\\sutd_5055mlop\\.venv\\lib\\site-packages (0.8.4)\n",
      "Collecting google-ai-generativelanguage==0.6.15 (from google-generativeai)\n",
      "  Using cached google_ai_generativelanguage-0.6.15-py3-none-any.whl.metadata (5.7 kB)\n",
      "Requirement already satisfied: google-api-core in c:\\users\\adity\\desktop\\sutd_5055mlop\\.venv\\lib\\site-packages (from google-generativeai) (2.24.2)\n",
      "Requirement already satisfied: google-api-python-client in c:\\users\\adity\\desktop\\sutd_5055mlop\\.venv\\lib\\site-packages (from google-generativeai) (2.166.0)\n",
      "Requirement already satisfied: google-auth>=2.15.0 in c:\\users\\adity\\desktop\\sutd_5055mlop\\.venv\\lib\\site-packages (from google-generativeai) (2.38.0)\n",
      "Requirement already satisfied: protobuf in c:\\users\\adity\\desktop\\sutd_5055mlop\\.venv\\lib\\site-packages (from google-generativeai) (5.29.4)\n",
      "Requirement already satisfied: pydantic in c:\\users\\adity\\desktop\\sutd_5055mlop\\.venv\\lib\\site-packages (from google-generativeai) (2.11.3)\n",
      "Requirement already satisfied: tqdm in c:\\users\\adity\\desktop\\sutd_5055mlop\\.venv\\lib\\site-packages (from google-generativeai) (4.67.1)\n",
      "Requirement already satisfied: typing-extensions in c:\\users\\adity\\desktop\\sutd_5055mlop\\.venv\\lib\\site-packages (from google-generativeai) (4.13.2)\n",
      "Requirement already satisfied: proto-plus<2.0.0dev,>=1.22.3 in c:\\users\\adity\\desktop\\sutd_5055mlop\\.venv\\lib\\site-packages (from google-ai-generativelanguage==0.6.15->google-generativeai) (1.26.1)\n",
      "Requirement already satisfied: googleapis-common-protos<2.0.0,>=1.56.2 in c:\\users\\adity\\desktop\\sutd_5055mlop\\.venv\\lib\\site-packages (from google-api-core->google-generativeai) (1.69.2)\n",
      "Requirement already satisfied: requests<3.0.0,>=2.18.0 in c:\\users\\adity\\desktop\\sutd_5055mlop\\.venv\\lib\\site-packages (from google-api-core->google-generativeai) (2.32.3)\n",
      "Requirement already satisfied: cachetools<6.0,>=2.0.0 in c:\\users\\adity\\desktop\\sutd_5055mlop\\.venv\\lib\\site-packages (from google-auth>=2.15.0->google-generativeai) (5.5.2)\n",
      "Requirement already satisfied: pyasn1-modules>=0.2.1 in c:\\users\\adity\\desktop\\sutd_5055mlop\\.venv\\lib\\site-packages (from google-auth>=2.15.0->google-generativeai) (0.4.2)\n",
      "Requirement already satisfied: rsa<5,>=3.1.4 in c:\\users\\adity\\desktop\\sutd_5055mlop\\.venv\\lib\\site-packages (from google-auth>=2.15.0->google-generativeai) (4.9)\n",
      "Requirement already satisfied: httplib2<1.0.0,>=0.19.0 in c:\\users\\adity\\desktop\\sutd_5055mlop\\.venv\\lib\\site-packages (from google-api-python-client->google-generativeai) (0.22.0)\n",
      "Requirement already satisfied: google-auth-httplib2<1.0.0,>=0.2.0 in c:\\users\\adity\\desktop\\sutd_5055mlop\\.venv\\lib\\site-packages (from google-api-python-client->google-generativeai) (0.2.0)\n",
      "Requirement already satisfied: uritemplate<5,>=3.0.1 in c:\\users\\adity\\desktop\\sutd_5055mlop\\.venv\\lib\\site-packages (from google-api-python-client->google-generativeai) (4.1.1)\n",
      "Requirement already satisfied: annotated-types>=0.6.0 in c:\\users\\adity\\desktop\\sutd_5055mlop\\.venv\\lib\\site-packages (from pydantic->google-generativeai) (0.7.0)\n",
      "Requirement already satisfied: pydantic-core==2.33.1 in c:\\users\\adity\\desktop\\sutd_5055mlop\\.venv\\lib\\site-packages (from pydantic->google-generativeai) (2.33.1)\n",
      "Requirement already satisfied: typing-inspection>=0.4.0 in c:\\users\\adity\\desktop\\sutd_5055mlop\\.venv\\lib\\site-packages (from pydantic->google-generativeai) (0.4.0)\n",
      "Requirement already satisfied: colorama in c:\\users\\adity\\desktop\\sutd_5055mlop\\.venv\\lib\\site-packages (from tqdm->google-generativeai) (0.4.6)\n",
      "Requirement already satisfied: grpcio<2.0dev,>=1.33.2 in c:\\users\\adity\\desktop\\sutd_5055mlop\\.venv\\lib\\site-packages (from google-api-core[grpc]!=2.0.*,!=2.1.*,!=2.10.*,!=2.2.*,!=2.3.*,!=2.4.*,!=2.5.*,!=2.6.*,!=2.7.*,!=2.8.*,!=2.9.*,<3.0.0dev,>=1.34.1->google-ai-generativelanguage==0.6.15->google-generativeai) (1.72.0rc1)\n",
      "Requirement already satisfied: grpcio-status<2.0.dev0,>=1.33.2 in c:\\users\\adity\\desktop\\sutd_5055mlop\\.venv\\lib\\site-packages (from google-api-core[grpc]!=2.0.*,!=2.1.*,!=2.10.*,!=2.2.*,!=2.3.*,!=2.4.*,!=2.5.*,!=2.6.*,!=2.7.*,!=2.8.*,!=2.9.*,<3.0.0dev,>=1.34.1->google-ai-generativelanguage==0.6.15->google-generativeai) (1.71.0)\n",
      "Requirement already satisfied: pyparsing!=3.0.0,!=3.0.1,!=3.0.2,!=3.0.3,<4,>=2.4.2 in c:\\users\\adity\\desktop\\sutd_5055mlop\\.venv\\lib\\site-packages (from httplib2<1.0.0,>=0.19.0->google-api-python-client->google-generativeai) (3.2.3)\n",
      "Requirement already satisfied: pyasn1<0.7.0,>=0.6.1 in c:\\users\\adity\\desktop\\sutd_5055mlop\\.venv\\lib\\site-packages (from pyasn1-modules>=0.2.1->google-auth>=2.15.0->google-generativeai) (0.6.1)\n",
      "Requirement already satisfied: charset-normalizer<4,>=2 in c:\\users\\adity\\desktop\\sutd_5055mlop\\.venv\\lib\\site-packages (from requests<3.0.0,>=2.18.0->google-api-core->google-generativeai) (3.4.1)\n",
      "Requirement already satisfied: idna<4,>=2.5 in c:\\users\\adity\\desktop\\sutd_5055mlop\\.venv\\lib\\site-packages (from requests<3.0.0,>=2.18.0->google-api-core->google-generativeai) (3.10)\n",
      "Requirement already satisfied: urllib3<3,>=1.21.1 in c:\\users\\adity\\desktop\\sutd_5055mlop\\.venv\\lib\\site-packages (from requests<3.0.0,>=2.18.0->google-api-core->google-generativeai) (2.4.0)\n",
      "Requirement already satisfied: certifi>=2017.4.17 in c:\\users\\adity\\desktop\\sutd_5055mlop\\.venv\\lib\\site-packages (from requests<3.0.0,>=2.18.0->google-api-core->google-generativeai) (2025.1.31)\n",
      "Using cached google_ai_generativelanguage-0.6.15-py3-none-any.whl (1.3 MB)\n",
      "Installing collected packages: google-ai-generativelanguage\n",
      "  Attempting uninstall: google-ai-generativelanguage\n",
      "    Found existing installation: google-ai-generativelanguage 0.6.17\n",
      "    Uninstalling google-ai-generativelanguage-0.6.17:\n",
      "      Successfully uninstalled google-ai-generativelanguage-0.6.17\n",
      "Successfully installed google-ai-generativelanguage-0.6.15\n"
     ]
    },
    {
     "name": "stderr",
     "output_type": "stream",
     "text": [
      "ERROR: pip's dependency resolver does not currently take into account all the packages that are installed. This behaviour is the source of the following dependency conflicts.\n",
      "langchain-google-genai 2.1.2 requires google-ai-generativelanguage<0.7.0,>=0.6.16, but you have google-ai-generativelanguage 0.6.15 which is incompatible.\n"
     ]
    },
    {
     "name": "stdout",
     "output_type": "stream",
     "text": [
      "Requirement already satisfied: flashrank in c:\\users\\adity\\desktop\\sutd_5055mlop\\.venv\\lib\\site-packages (0.2.10)\n",
      "Requirement already satisfied: tokenizers in c:\\users\\adity\\desktop\\sutd_5055mlop\\.venv\\lib\\site-packages (from flashrank) (0.21.1)\n",
      "Requirement already satisfied: onnxruntime in c:\\users\\adity\\desktop\\sutd_5055mlop\\.venv\\lib\\site-packages (from flashrank) (1.21.0)\n",
      "Requirement already satisfied: numpy in c:\\users\\adity\\desktop\\sutd_5055mlop\\.venv\\lib\\site-packages (from flashrank) (2.1.2)\n",
      "Requirement already satisfied: requests in c:\\users\\adity\\desktop\\sutd_5055mlop\\.venv\\lib\\site-packages (from flashrank) (2.32.3)\n",
      "Requirement already satisfied: tqdm in c:\\users\\adity\\desktop\\sutd_5055mlop\\.venv\\lib\\site-packages (from flashrank) (4.67.1)\n",
      "Requirement already satisfied: coloredlogs in c:\\users\\adity\\desktop\\sutd_5055mlop\\.venv\\lib\\site-packages (from onnxruntime->flashrank) (15.0.1)\n",
      "Requirement already satisfied: flatbuffers in c:\\users\\adity\\desktop\\sutd_5055mlop\\.venv\\lib\\site-packages (from onnxruntime->flashrank) (25.2.10)\n",
      "Requirement already satisfied: packaging in c:\\users\\adity\\desktop\\sutd_5055mlop\\.venv\\lib\\site-packages (from onnxruntime->flashrank) (24.2)\n",
      "Requirement already satisfied: protobuf in c:\\users\\adity\\desktop\\sutd_5055mlop\\.venv\\lib\\site-packages (from onnxruntime->flashrank) (5.29.4)\n",
      "Requirement already satisfied: sympy in c:\\users\\adity\\desktop\\sutd_5055mlop\\.venv\\lib\\site-packages (from onnxruntime->flashrank) (1.13.1)\n",
      "Requirement already satisfied: charset-normalizer<4,>=2 in c:\\users\\adity\\desktop\\sutd_5055mlop\\.venv\\lib\\site-packages (from requests->flashrank) (3.4.1)\n",
      "Requirement already satisfied: idna<4,>=2.5 in c:\\users\\adity\\desktop\\sutd_5055mlop\\.venv\\lib\\site-packages (from requests->flashrank) (3.10)\n",
      "Requirement already satisfied: urllib3<3,>=1.21.1 in c:\\users\\adity\\desktop\\sutd_5055mlop\\.venv\\lib\\site-packages (from requests->flashrank) (2.4.0)\n",
      "Requirement already satisfied: certifi>=2017.4.17 in c:\\users\\adity\\desktop\\sutd_5055mlop\\.venv\\lib\\site-packages (from requests->flashrank) (2025.1.31)\n",
      "Requirement already satisfied: huggingface-hub<1.0,>=0.16.4 in c:\\users\\adity\\desktop\\sutd_5055mlop\\.venv\\lib\\site-packages (from tokenizers->flashrank) (0.30.2)\n",
      "Requirement already satisfied: colorama in c:\\users\\adity\\desktop\\sutd_5055mlop\\.venv\\lib\\site-packages (from tqdm->flashrank) (0.4.6)\n",
      "Requirement already satisfied: filelock in c:\\users\\adity\\desktop\\sutd_5055mlop\\.venv\\lib\\site-packages (from huggingface-hub<1.0,>=0.16.4->tokenizers->flashrank) (3.13.1)\n",
      "Requirement already satisfied: fsspec>=2023.5.0 in c:\\users\\adity\\desktop\\sutd_5055mlop\\.venv\\lib\\site-packages (from huggingface-hub<1.0,>=0.16.4->tokenizers->flashrank) (2024.6.1)\n",
      "Requirement already satisfied: pyyaml>=5.1 in c:\\users\\adity\\desktop\\sutd_5055mlop\\.venv\\lib\\site-packages (from huggingface-hub<1.0,>=0.16.4->tokenizers->flashrank) (6.0.2)\n",
      "Requirement already satisfied: typing-extensions>=3.7.4.3 in c:\\users\\adity\\desktop\\sutd_5055mlop\\.venv\\lib\\site-packages (from huggingface-hub<1.0,>=0.16.4->tokenizers->flashrank) (4.13.2)\n",
      "Requirement already satisfied: humanfriendly>=9.1 in c:\\users\\adity\\desktop\\sutd_5055mlop\\.venv\\lib\\site-packages (from coloredlogs->onnxruntime->flashrank) (10.0)\n",
      "Requirement already satisfied: mpmath<1.4,>=1.1.0 in c:\\users\\adity\\desktop\\sutd_5055mlop\\.venv\\lib\\site-packages (from sympy->onnxruntime->flashrank) (1.3.0)\n",
      "Requirement already satisfied: pyreadline3 in c:\\users\\adity\\desktop\\sutd_5055mlop\\.venv\\lib\\site-packages (from humanfriendly>=9.1->coloredlogs->onnxruntime->flashrank) (3.5.4)\n",
      "Requirement already satisfied: openai in c:\\users\\adity\\desktop\\sutd_5055mlop\\.venv\\lib\\site-packages (1.72.0)\n",
      "Requirement already satisfied: anyio<5,>=3.5.0 in c:\\users\\adity\\desktop\\sutd_5055mlop\\.venv\\lib\\site-packages (from openai) (4.9.0)\n",
      "Requirement already satisfied: distro<2,>=1.7.0 in c:\\users\\adity\\desktop\\sutd_5055mlop\\.venv\\lib\\site-packages (from openai) (1.9.0)\n",
      "Requirement already satisfied: httpx<1,>=0.23.0 in c:\\users\\adity\\desktop\\sutd_5055mlop\\.venv\\lib\\site-packages (from openai) (0.28.1)\n",
      "Requirement already satisfied: jiter<1,>=0.4.0 in c:\\users\\adity\\desktop\\sutd_5055mlop\\.venv\\lib\\site-packages (from openai) (0.9.0)\n",
      "Requirement already satisfied: pydantic<3,>=1.9.0 in c:\\users\\adity\\desktop\\sutd_5055mlop\\.venv\\lib\\site-packages (from openai) (2.11.3)\n",
      "Requirement already satisfied: sniffio in c:\\users\\adity\\desktop\\sutd_5055mlop\\.venv\\lib\\site-packages (from openai) (1.3.1)\n",
      "Requirement already satisfied: tqdm>4 in c:\\users\\adity\\desktop\\sutd_5055mlop\\.venv\\lib\\site-packages (from openai) (4.67.1)\n",
      "Requirement already satisfied: typing-extensions<5,>=4.11 in c:\\users\\adity\\desktop\\sutd_5055mlop\\.venv\\lib\\site-packages (from openai) (4.13.2)\n",
      "Requirement already satisfied: idna>=2.8 in c:\\users\\adity\\desktop\\sutd_5055mlop\\.venv\\lib\\site-packages (from anyio<5,>=3.5.0->openai) (3.10)\n",
      "Requirement already satisfied: certifi in c:\\users\\adity\\desktop\\sutd_5055mlop\\.venv\\lib\\site-packages (from httpx<1,>=0.23.0->openai) (2025.1.31)\n",
      "Requirement already satisfied: httpcore==1.* in c:\\users\\adity\\desktop\\sutd_5055mlop\\.venv\\lib\\site-packages (from httpx<1,>=0.23.0->openai) (1.0.8)\n",
      "Requirement already satisfied: h11<0.15,>=0.13 in c:\\users\\adity\\desktop\\sutd_5055mlop\\.venv\\lib\\site-packages (from httpcore==1.*->httpx<1,>=0.23.0->openai) (0.14.0)\n",
      "Requirement already satisfied: annotated-types>=0.6.0 in c:\\users\\adity\\desktop\\sutd_5055mlop\\.venv\\lib\\site-packages (from pydantic<3,>=1.9.0->openai) (0.7.0)\n",
      "Requirement already satisfied: pydantic-core==2.33.1 in c:\\users\\adity\\desktop\\sutd_5055mlop\\.venv\\lib\\site-packages (from pydantic<3,>=1.9.0->openai) (2.33.1)\n",
      "Requirement already satisfied: typing-inspection>=0.4.0 in c:\\users\\adity\\desktop\\sutd_5055mlop\\.venv\\lib\\site-packages (from pydantic<3,>=1.9.0->openai) (0.4.0)\n",
      "Requirement already satisfied: colorama in c:\\users\\adity\\desktop\\sutd_5055mlop\\.venv\\lib\\site-packages (from tqdm>4->openai) (0.4.6)\n",
      "Requirement already satisfied: sentence-transformers in c:\\users\\adity\\desktop\\sutd_5055mlop\\.venv\\lib\\site-packages (4.0.2)\n",
      "Requirement already satisfied: transformers<5.0.0,>=4.41.0 in c:\\users\\adity\\desktop\\sutd_5055mlop\\.venv\\lib\\site-packages (from sentence-transformers) (4.51.2)\n",
      "Requirement already satisfied: tqdm in c:\\users\\adity\\desktop\\sutd_5055mlop\\.venv\\lib\\site-packages (from sentence-transformers) (4.67.1)\n",
      "Requirement already satisfied: torch>=1.11.0 in c:\\users\\adity\\desktop\\sutd_5055mlop\\.venv\\lib\\site-packages (from sentence-transformers) (2.6.0+cu118)\n",
      "Requirement already satisfied: scikit-learn in c:\\users\\adity\\desktop\\sutd_5055mlop\\.venv\\lib\\site-packages (from sentence-transformers) (1.6.1)\n",
      "Requirement already satisfied: scipy in c:\\users\\adity\\desktop\\sutd_5055mlop\\.venv\\lib\\site-packages (from sentence-transformers) (1.15.2)\n",
      "Requirement already satisfied: huggingface-hub>=0.20.0 in c:\\users\\adity\\desktop\\sutd_5055mlop\\.venv\\lib\\site-packages (from sentence-transformers) (0.30.2)\n",
      "Requirement already satisfied: Pillow in c:\\users\\adity\\desktop\\sutd_5055mlop\\.venv\\lib\\site-packages (from sentence-transformers) (11.0.0)\n",
      "Requirement already satisfied: typing_extensions>=4.5.0 in c:\\users\\adity\\desktop\\sutd_5055mlop\\.venv\\lib\\site-packages (from sentence-transformers) (4.13.2)\n",
      "Requirement already satisfied: filelock in c:\\users\\adity\\desktop\\sutd_5055mlop\\.venv\\lib\\site-packages (from huggingface-hub>=0.20.0->sentence-transformers) (3.13.1)\n",
      "Requirement already satisfied: fsspec>=2023.5.0 in c:\\users\\adity\\desktop\\sutd_5055mlop\\.venv\\lib\\site-packages (from huggingface-hub>=0.20.0->sentence-transformers) (2024.6.1)\n",
      "Requirement already satisfied: packaging>=20.9 in c:\\users\\adity\\desktop\\sutd_5055mlop\\.venv\\lib\\site-packages (from huggingface-hub>=0.20.0->sentence-transformers) (24.2)\n",
      "Requirement already satisfied: pyyaml>=5.1 in c:\\users\\adity\\desktop\\sutd_5055mlop\\.venv\\lib\\site-packages (from huggingface-hub>=0.20.0->sentence-transformers) (6.0.2)\n",
      "Requirement already satisfied: requests in c:\\users\\adity\\desktop\\sutd_5055mlop\\.venv\\lib\\site-packages (from huggingface-hub>=0.20.0->sentence-transformers) (2.32.3)\n",
      "Requirement already satisfied: networkx in c:\\users\\adity\\desktop\\sutd_5055mlop\\.venv\\lib\\site-packages (from torch>=1.11.0->sentence-transformers) (3.3)\n",
      "Requirement already satisfied: jinja2 in c:\\users\\adity\\desktop\\sutd_5055mlop\\.venv\\lib\\site-packages (from torch>=1.11.0->sentence-transformers) (3.1.4)\n",
      "Requirement already satisfied: sympy==1.13.1 in c:\\users\\adity\\desktop\\sutd_5055mlop\\.venv\\lib\\site-packages (from torch>=1.11.0->sentence-transformers) (1.13.1)\n",
      "Requirement already satisfied: mpmath<1.4,>=1.1.0 in c:\\users\\adity\\desktop\\sutd_5055mlop\\.venv\\lib\\site-packages (from sympy==1.13.1->torch>=1.11.0->sentence-transformers) (1.3.0)\n",
      "Requirement already satisfied: colorama in c:\\users\\adity\\desktop\\sutd_5055mlop\\.venv\\lib\\site-packages (from tqdm->sentence-transformers) (0.4.6)\n",
      "Requirement already satisfied: numpy>=1.17 in c:\\users\\adity\\desktop\\sutd_5055mlop\\.venv\\lib\\site-packages (from transformers<5.0.0,>=4.41.0->sentence-transformers) (2.1.2)\n",
      "Requirement already satisfied: regex!=2019.12.17 in c:\\users\\adity\\desktop\\sutd_5055mlop\\.venv\\lib\\site-packages (from transformers<5.0.0,>=4.41.0->sentence-transformers) (2024.11.6)\n",
      "Requirement already satisfied: tokenizers<0.22,>=0.21 in c:\\users\\adity\\desktop\\sutd_5055mlop\\.venv\\lib\\site-packages (from transformers<5.0.0,>=4.41.0->sentence-transformers) (0.21.1)\n",
      "Requirement already satisfied: safetensors>=0.4.3 in c:\\users\\adity\\desktop\\sutd_5055mlop\\.venv\\lib\\site-packages (from transformers<5.0.0,>=4.41.0->sentence-transformers) (0.5.3)\n",
      "Requirement already satisfied: joblib>=1.2.0 in c:\\users\\adity\\desktop\\sutd_5055mlop\\.venv\\lib\\site-packages (from scikit-learn->sentence-transformers) (1.4.2)\n",
      "Requirement already satisfied: threadpoolctl>=3.1.0 in c:\\users\\adity\\desktop\\sutd_5055mlop\\.venv\\lib\\site-packages (from scikit-learn->sentence-transformers) (3.6.0)\n",
      "Requirement already satisfied: MarkupSafe>=2.0 in c:\\users\\adity\\desktop\\sutd_5055mlop\\.venv\\lib\\site-packages (from jinja2->torch>=1.11.0->sentence-transformers) (2.1.5)\n",
      "Requirement already satisfied: charset-normalizer<4,>=2 in c:\\users\\adity\\desktop\\sutd_5055mlop\\.venv\\lib\\site-packages (from requests->huggingface-hub>=0.20.0->sentence-transformers) (3.4.1)\n",
      "Requirement already satisfied: idna<4,>=2.5 in c:\\users\\adity\\desktop\\sutd_5055mlop\\.venv\\lib\\site-packages (from requests->huggingface-hub>=0.20.0->sentence-transformers) (3.10)\n",
      "Requirement already satisfied: urllib3<3,>=1.21.1 in c:\\users\\adity\\desktop\\sutd_5055mlop\\.venv\\lib\\site-packages (from requests->huggingface-hub>=0.20.0->sentence-transformers) (2.4.0)\n",
      "Requirement already satisfied: certifi>=2017.4.17 in c:\\users\\adity\\desktop\\sutd_5055mlop\\.venv\\lib\\site-packages (from requests->huggingface-hub>=0.20.0->sentence-transformers) (2025.1.31)\n",
      "Requirement already satisfied: dotenv in c:\\users\\adity\\desktop\\sutd_5055mlop\\.venv\\lib\\site-packages (0.9.9)\n",
      "Requirement already satisfied: python-dotenv in c:\\users\\adity\\desktop\\sutd_5055mlop\\.venv\\lib\\site-packages (from dotenv) (1.1.0)\n",
      "Requirement already satisfied: pydantic in c:\\users\\adity\\desktop\\sutd_5055mlop\\.venv\\lib\\site-packages (2.11.3)\n",
      "Requirement already satisfied: annotated-types>=0.6.0 in c:\\users\\adity\\desktop\\sutd_5055mlop\\.venv\\lib\\site-packages (from pydantic) (0.7.0)\n",
      "Requirement already satisfied: pydantic-core==2.33.1 in c:\\users\\adity\\desktop\\sutd_5055mlop\\.venv\\lib\\site-packages (from pydantic) (2.33.1)\n",
      "Requirement already satisfied: typing-extensions>=4.12.2 in c:\\users\\adity\\desktop\\sutd_5055mlop\\.venv\\lib\\site-packages (from pydantic) (4.13.2)\n",
      "Requirement already satisfied: typing-inspection>=0.4.0 in c:\\users\\adity\\desktop\\sutd_5055mlop\\.venv\\lib\\site-packages (from pydantic) (0.4.0)\n"
     ]
    }
   ],
   "source": [
    "# QUESTION: Install and import all required packages\n",
    "# The rest of your code should execute without any import or dependency errors.\n",
    "\n",
    "# **--- ADD YOUR SOLUTION HERE (10 points) ---**\n",
    "!pip install torch torchvision torchaudio --index-url https://download.pytorch.org/whl/cu118\n",
    "!pip install transformers\n",
    "!pip install datasets\n",
    "!pip install accelerate\n",
    "!pip install huggingface_hub\n",
    "!pip install langchain langchain-core langchain-community langchain-experimental langchain-google-genai\n",
    "!pip install google-generativeai\n",
    "!pip install flashrank\n",
    "!pip install openai\n",
    "!pip install sentence-transformers\n",
    "!pip install dotenv\n",
    "!pip install pydantic"
   ]
  },
  {
   "cell_type": "markdown",
   "id": "6d3be3b4",
   "metadata": {},
   "source": [
    "# Importing libraries"
   ]
  },
  {
   "cell_type": "code",
   "execution_count": 12,
   "id": "63c2c528",
   "metadata": {},
   "outputs": [],
   "source": [
    "from dotenv import load_dotenv\n",
    "from langchain_google_genai import ChatGoogleGenerativeAI\n",
    "# TODO: check the difference between ChatGoogleGenerativeAI and GoogleGenerativeAI\n",
    "from langchain_google_genai import GoogleGenerativeAI\n",
    "from langchain_core.prompts import ChatPromptTemplate\n",
    "from langchain_google_genai import ChatGoogleGenerativeAI\n",
    "from langchain_core.output_parsers import JsonOutputParser\n",
    "from langchain_core.prompts import PromptTemplate\n",
    "from langchain_core.utils.function_calling import convert_to_openai_function\n",
    "from langchain.chains import LLMChain\n",
    "from langchain_core.pydantic_v1 import BaseModel, Field\n",
    "from typing import List\n",
    "import os\n",
    "from pydantic import BaseModel\n",
    "import time\n",
    "import json\n",
    "\n",
    "load_dotenv()\n",
    "GOOGLE_GENAI_API_KEY = os.getenv(\"GOOGLE_GENAI_API_KEY\")"
   ]
  },
  {
   "cell_type": "markdown",
   "id": "563304ec",
   "metadata": {},
   "source": [
    "# Generate training data\n",
    "The first step of the assignment is generating synthetic question-answer pairs which can be used for finetuning an LLM model. \n",
    "Use the Google AI studio with the Gemini models to create -high-quality QA training data.\n"
   ]
  },
  {
   "cell_type": "code",
   "execution_count": 13,
   "id": "f6fe166d-5ef6-4da9-995e-54afffc683c1",
   "metadata": {},
   "outputs": [
    {
     "name": "stderr",
     "output_type": "stream",
     "text": [
      "c:\\Users\\adity\\Desktop\\sutd_5055mlop\\.venv\\Lib\\site-packages\\langchain_google_genai\\chat_models.py:367: UserWarning: Convert_system_message_to_human will be deprecated!\n",
      "  warnings.warn(\"Convert_system_message_to_human will be deprecated!\")\n"
     ]
    },
    {
     "name": "stdout",
     "output_type": "stream",
     "text": [
      "['apple', 'banana', 'orange']\n"
     ]
    },
    {
     "name": "stderr",
     "output_type": "stream",
     "text": [
      "c:\\Users\\adity\\Desktop\\sutd_5055mlop\\.venv\\Lib\\site-packages\\langchain_google_genai\\chat_models.py:367: UserWarning: Convert_system_message_to_human will be deprecated!\n",
      "  warnings.warn(\"Convert_system_message_to_human will be deprecated!\")\n"
     ]
    },
    {
     "name": "stdout",
     "output_type": "stream",
     "text": [
      "['apple', 'banana', 'orange']\n"
     ]
    }
   ],
   "source": [
    "# QUESTION: Use langchain and the Google AI Studio APIs and a model from the Gemini 2.0 family\n",
    "# to create a text-generation chain that can produce and parse JSON output.\n",
    "# Test it by having the LLM generate a JSON array of 3 fruits\n",
    "\n",
    "#--- ADD YOUR SOLUTION HERE (20 points)---\n",
    "\n",
    "# --------------------------------------------------------------------------------\n",
    "\n",
    "# we are creating synthetic data that contains only questions and responses but not on multiple tasks, because this is a chatbot application\n",
    "model = ChatGoogleGenerativeAI(google_api_key=GOOGLE_GENAI_API_KEY, model=\"gemini-2.0-flash\", temperature=0.2, convert_system_message_to_human=True)\n",
    "parser = JsonOutputParser()\n",
    "input_prompt = \"Generate a JSON array containing exactly 3 fruit names.\"\n",
    "prompt = ChatPromptTemplate.from_messages([\n",
    "    (\"system\", \"\"\"\n",
    "    You are a helpful assistant that generates structured JSON data.\n",
    "    Your response should ONLY contain valid JSON without any additional text.\n",
    "    Do not include explanation, notes, or markdown formatting.\n",
    "    \"\"\"),\n",
    "    (\"human\", \"{input_text}\")\n",
    "])\n",
    "chain = ( prompt | model | parser )\n",
    "response = chain.invoke({\"input_text\": input_prompt})\n",
    "print(response)\n",
    "\n",
    "# --------------------------------------------------------------------------------\n",
    "\n",
    "# imo there is a better way to do this which is using pydantic and langchain\n",
    "class FruitList(BaseModel):\n",
    "    fruits: List[str] = Field(description=\"A list of fruit objects\", min_length=3, max_length=3)\n",
    "    \n",
    "pydantic_parser = JsonOutputParser(pydantic_object=FruitList)\n",
    "prompt = PromptTemplate(\n",
    "    template  = \"Answer the user's question.\\n\\n{format_instructions}\\n\\n{input}\",\n",
    "    input_variables = [\"input\"],\n",
    "    partial_variables={\"format_instructions\": parser.get_format_instructions()},\n",
    ")\n",
    "   \n",
    "chain = ( prompt | model | pydantic_parser )\n",
    "response = chain.invoke({\"input\": input_prompt})\n",
    "print(response)"
   ]
  },
  {
   "cell_type": "markdown",
   "id": "f8edaed2",
   "metadata": {},
   "source": [
    "## Generate topics\n",
    "When generating data, it is often helpful to guide the generation process through some hierachical structure. \n",
    "Before we create question-answer pairs, let's generate some topics which the questions should be about.\n",
    "\n"
   ]
  },
  {
   "cell_type": "code",
   "execution_count": 32,
   "id": "45ee57ba-d3e2-45bd-9bc6-c7eeb354b926",
   "metadata": {},
   "outputs": [],
   "source": [
    "# QUESTION: Create a function 'generate_topics' which generates topics which prospective students might care about.\n",
    "#\n",
    "# Generate a list of 20 topics \n",
    "\n",
    "#--- ADD YOUR SOLUTION HERE (20 points)---\n",
    "def generate_topics(num = 20):\n",
    "    class TopicsList(BaseModel):\n",
    "        topics: List[str] = Field(description=f\"A list of {num} topics that prospective students might care about\", min_length=num, max_length=num)\n",
    "    \n",
    "    # if the file already exists don't run instead return the topics from the file\n",
    "    output_dir = \"data\"\n",
    "    \n",
    "    if os.path.exists(output_dir) == False:\n",
    "        os.makedirs(output_dir)\n",
    "        \n",
    "    filename = f\"data/topics.json\"\n",
    "            \n",
    "    model = ChatGoogleGenerativeAI(\n",
    "        google_api_key=GOOGLE_GENAI_API_KEY,\n",
    "        model=\"gemini-2.0-flash\",\n",
    "        temperature=0.8, # using this value for more diverse topics\n",
    "        convert_system_message_to_human=True\n",
    "    )    \n",
    "    \n",
    "    pydantic_parser = JsonOutputParser(pydantic_object=TopicsList)\n",
    "    prompt = PromptTemplate(\n",
    "        template=\"Generate a list of topics that prospective students might care about when choosing a college or university.\\n\\n{format_instructions}\\n\\n{input}\",\n",
    "        input_variables=[\"input\"],\n",
    "        partial_variables={\"format_instructions\": pydantic_parser.get_format_instructions()},\n",
    "    )\n",
    "    input_prompt = f\"Please generate exactly {num} diverse topics that prospective students would consider when choosing a college. Include academic, social, financial, and career-related aspects.\"\n",
    "    \n",
    "    chain = prompt | model | parser \n",
    "    response = chain.invoke({\"input\": input_prompt})\n",
    "\n",
    "    topics = response[\"topics\"]\n",
    "    \n",
    "    # save to disk otherwise\n",
    "    with open(filename, 'w') as file:\n",
    "        json.dump(topics, file)\n",
    "    \n",
    "    return topics"
   ]
  },
  {
   "cell_type": "code",
   "execution_count": 33,
   "id": "b7787247",
   "metadata": {},
   "outputs": [
    {
     "name": "stderr",
     "output_type": "stream",
     "text": [
      "c:\\Users\\adity\\Desktop\\sutd_5055mlop\\.venv\\Lib\\site-packages\\pydantic\\json_schema.py:2324: PydanticJsonSchemaWarning: Default value default=PydanticUndefined description='A list of 3 topics that prospective students might care about' min_length=3 max_length=3 extra={} is not JSON serializable; excluding default from JSON schema [non-serializable-default]\n",
      "  warnings.warn(message, PydanticJsonSchemaWarning)\n",
      "c:\\Users\\adity\\Desktop\\sutd_5055mlop\\.venv\\Lib\\site-packages\\langchain_google_genai\\chat_models.py:367: UserWarning: Convert_system_message_to_human will be deprecated!\n",
      "  warnings.warn(\"Convert_system_message_to_human will be deprecated!\")\n"
     ]
    },
    {
     "name": "stdout",
     "output_type": "stream",
     "text": [
      "['Academic Program Quality and Reputation', 'Campus Culture and Social Opportunities', 'Cost of Attendance and Financial Aid']\n"
     ]
    }
   ],
   "source": [
    "# test topic generation\n",
    "print(generate_topics(3))"
   ]
  },
  {
   "cell_type": "code",
   "execution_count": 34,
   "id": "cc7efb98-7b40-4230-9eda-f344b4d4e4a7",
   "metadata": {},
   "outputs": [
    {
     "name": "stderr",
     "output_type": "stream",
     "text": [
      "c:\\Users\\adity\\Desktop\\sutd_5055mlop\\.venv\\Lib\\site-packages\\pydantic\\json_schema.py:2324: PydanticJsonSchemaWarning: Default value default=PydanticUndefined description='A list of 20 topics that prospective students might care about' min_length=20 max_length=20 extra={} is not JSON serializable; excluding default from JSON schema [non-serializable-default]\n",
      "  warnings.warn(message, PydanticJsonSchemaWarning)\n",
      "c:\\Users\\adity\\Desktop\\sutd_5055mlop\\.venv\\Lib\\site-packages\\langchain_google_genai\\chat_models.py:367: UserWarning: Convert_system_message_to_human will be deprecated!\n",
      "  warnings.warn(\"Convert_system_message_to_human will be deprecated!\")\n"
     ]
    },
    {
     "name": "stdout",
     "output_type": "stream",
     "text": [
      "['Academic Reputation', 'Specific Programs/Majors Offered', 'Faculty Expertise and Accessibility', 'Research Opportunities', 'Internship Opportunities', 'Career Services and Placement Rates', 'Tuition and Fees', 'Financial Aid and Scholarships', 'Cost of Living', 'Campus Location and Safety', 'Campus Culture and Social Life', 'Student Organizations and Clubs', 'Diversity and Inclusion', 'Student-Faculty Ratio', 'Class Sizes', 'Graduation Rates', 'Alumni Network', 'Housing Options', 'Athletic Programs', 'Study Abroad Programs']\n"
     ]
    }
   ],
   "source": [
    "# Generate a list of 20 topics \n",
    "# We save a copy to disk and reload it from there if the file exists\n",
    "\n",
    "# the function to generate topics and saves it to disk as topics_20.json\n",
    "print(generate_topics(20))"
   ]
  },
  {
   "cell_type": "markdown",
   "id": "f48c4b4e",
   "metadata": {},
   "source": [
    "## Generate questions\n",
    "Now generate a set of questions about each topic"
   ]
  },
  {
   "cell_type": "code",
   "execution_count": null,
   "id": "85706c9c-593d-459c-b86e-4011500cff05",
   "metadata": {},
   "outputs": [],
   "source": [
    "# QUESTION: Create a function 'generate_questions' which generates quetions about a given topic. \n",
    "# Generate a list of 10 questions per topics. In total you should have 200 questions. \n",
    "#\n",
    "\n",
    "#--- ADD YOUR SOLUTION HERE (20 points)---\n",
    "# TODO: rememeber to add timeout to the function\n",
    "def generate_questions(topic, num=10):\n",
    "    output_dir = \"data\"\n",
    "    \n",
    "    if os.path.exists(output_dir) == False:\n",
    "        os.makedirs(output_dir)\n",
    "\n",
    "    model = ChatGoogleGenerativeAI(\n",
    "        google_api_key=GOOGLE_GENAI_API_KEY,\n",
    "        model=\"gemini-2.0-flash\",\n",
    "        temperature=0.4, # hyperparameter can be changed\n",
    "        convert_system_message_to_human=True\n",
    "    )    \n",
    "    \n",
    "    class Questions(BaseModel):\n",
    "        questions: List[str] = Field(\n",
    "            description=f\"A list of {num} questions about a specific topic\", \n",
    "            min_length=num, \n",
    "            max_length=num\n",
    "        )\n",
    "    \n",
    "    parser = JsonOutputParser(pydantic_object=Questions)\n",
    "    prompt = PromptTemplate(\n",
    "        template=\"Generate a list of thought-provoking questions about the following topic that prospective students might ask.\\n\\nTopic: {topic}\\n\\n{format_instructions}\\n\\nMake sure to generate exactly {num_questions} diverse, specific, and insightful questions.\",\n",
    "        input_variables=[\"topic\", \"num_questions\"],\n",
    "        partial_variables={\"format_instructions\": parser.get_format_instructions()},\n",
    "    )\n",
    "    chain = prompt | model | parser   \n",
    "    \n",
    "    questions_data = {}\n",
    "    \n",
    "    try:\n",
    "        print(f\"Generating questions for topic: {topic}\")\n",
    "        response = chain.invoke({\"topic\": topic, \"num_questions\": num})\n",
    "        questions_data[topic] = response[\"questions\"]\n",
    "        \n",
    "    except Exception as e:\n",
    "        print(f\"Error generating questions for topic '{topic}': {e}\")\n",
    "\n",
    "    return questions_data"
   ]
  },
  {
   "cell_type": "code",
   "execution_count": 25,
   "id": "1b3c9080-c3d0-458e-8c25-fa869fe0ae37",
   "metadata": {},
   "outputs": [
    {
     "name": "stderr",
     "output_type": "stream",
     "text": [
      "c:\\Users\\adity\\Desktop\\sutd_5055mlop\\.venv\\Lib\\site-packages\\pydantic\\json_schema.py:2324: PydanticJsonSchemaWarning: Default value default=PydanticUndefined description='A list of 3 questions about a specific topic' min_length=3 max_length=3 extra={} is not JSON serializable; excluding default from JSON schema [non-serializable-default]\n",
      "  warnings.warn(message, PydanticJsonSchemaWarning)\n",
      "c:\\Users\\adity\\Desktop\\sutd_5055mlop\\.venv\\Lib\\site-packages\\langchain_google_genai\\chat_models.py:367: UserWarning: Convert_system_message_to_human will be deprecated!\n",
      "  warnings.warn(\"Convert_system_message_to_human will be deprecated!\")\n"
     ]
    },
    {
     "name": "stdout",
     "output_type": "stream",
     "text": [
      "Generating questions for topic 39: Academic Reputation and Program Quality\n",
      "{'Academic Reputation and Program Quality': ['Beyond rankings, how does the program foster a culture of intellectual curiosity and rigorous scholarship among its students and faculty?', 'What specific initiatives are in place to ensure the curriculum remains current and relevant to industry trends and emerging research areas within the field?', 'How does the program support students in developing critical thinking and problem-solving skills applicable to real-world challenges, and can you provide examples of successful alumni who have leveraged these skills?']}\n"
     ]
    }
   ],
   "source": [
    "# test it\n",
    "print(generate_questions(\"Academic Reputation and Program Quality\", 3))"
   ]
  },
  {
   "cell_type": "code",
   "execution_count": 26,
   "id": "879af438-7482-4b66-ba7a-a888e554df5e",
   "metadata": {},
   "outputs": [
    {
     "name": "stderr",
     "output_type": "stream",
     "text": [
      "c:\\Users\\adity\\Desktop\\sutd_5055mlop\\.venv\\Lib\\site-packages\\pydantic\\json_schema.py:2324: PydanticJsonSchemaWarning: Default value default=PydanticUndefined description='A list of 10 questions about a specific topic' min_length=10 max_length=10 extra={} is not JSON serializable; excluding default from JSON schema [non-serializable-default]\n",
      "  warnings.warn(message, PydanticJsonSchemaWarning)\n",
      "c:\\Users\\adity\\Desktop\\sutd_5055mlop\\.venv\\Lib\\site-packages\\langchain_google_genai\\chat_models.py:367: UserWarning: Convert_system_message_to_human will be deprecated!\n",
      "  warnings.warn(\"Convert_system_message_to_human will be deprecated!\")\n"
     ]
    },
    {
     "name": "stdout",
     "output_type": "stream",
     "text": [
      "Generating questions for topic 19: Academic Reputation\n"
     ]
    },
    {
     "name": "stderr",
     "output_type": "stream",
     "text": [
      "c:\\Users\\adity\\Desktop\\sutd_5055mlop\\.venv\\Lib\\site-packages\\pydantic\\json_schema.py:2324: PydanticJsonSchemaWarning: Default value default=PydanticUndefined description='A list of 10 questions about a specific topic' min_length=10 max_length=10 extra={} is not JSON serializable; excluding default from JSON schema [non-serializable-default]\n",
      "  warnings.warn(message, PydanticJsonSchemaWarning)\n",
      "c:\\Users\\adity\\Desktop\\sutd_5055mlop\\.venv\\Lib\\site-packages\\langchain_google_genai\\chat_models.py:367: UserWarning: Convert_system_message_to_human will be deprecated!\n",
      "  warnings.warn(\"Convert_system_message_to_human will be deprecated!\")\n"
     ]
    },
    {
     "name": "stdout",
     "output_type": "stream",
     "text": [
      "Generating questions for topic 32: Specific Programs/Majors Offered\n"
     ]
    },
    {
     "name": "stderr",
     "output_type": "stream",
     "text": [
      "c:\\Users\\adity\\Desktop\\sutd_5055mlop\\.venv\\Lib\\site-packages\\pydantic\\json_schema.py:2324: PydanticJsonSchemaWarning: Default value default=PydanticUndefined description='A list of 10 questions about a specific topic' min_length=10 max_length=10 extra={} is not JSON serializable; excluding default from JSON schema [non-serializable-default]\n",
      "  warnings.warn(message, PydanticJsonSchemaWarning)\n",
      "c:\\Users\\adity\\Desktop\\sutd_5055mlop\\.venv\\Lib\\site-packages\\langchain_google_genai\\chat_models.py:367: UserWarning: Convert_system_message_to_human will be deprecated!\n",
      "  warnings.warn(\"Convert_system_message_to_human will be deprecated!\")\n"
     ]
    },
    {
     "name": "stdout",
     "output_type": "stream",
     "text": [
      "Generating questions for topic 35: Faculty Expertise and Accessibility\n"
     ]
    },
    {
     "name": "stderr",
     "output_type": "stream",
     "text": [
      "c:\\Users\\adity\\Desktop\\sutd_5055mlop\\.venv\\Lib\\site-packages\\pydantic\\json_schema.py:2324: PydanticJsonSchemaWarning: Default value default=PydanticUndefined description='A list of 10 questions about a specific topic' min_length=10 max_length=10 extra={} is not JSON serializable; excluding default from JSON schema [non-serializable-default]\n",
      "  warnings.warn(message, PydanticJsonSchemaWarning)\n",
      "c:\\Users\\adity\\Desktop\\sutd_5055mlop\\.venv\\Lib\\site-packages\\langchain_google_genai\\chat_models.py:367: UserWarning: Convert_system_message_to_human will be deprecated!\n",
      "  warnings.warn(\"Convert_system_message_to_human will be deprecated!\")\n"
     ]
    },
    {
     "name": "stdout",
     "output_type": "stream",
     "text": [
      "Generating questions for topic 22: Research Opportunities\n"
     ]
    },
    {
     "name": "stderr",
     "output_type": "stream",
     "text": [
      "c:\\Users\\adity\\Desktop\\sutd_5055mlop\\.venv\\Lib\\site-packages\\pydantic\\json_schema.py:2324: PydanticJsonSchemaWarning: Default value default=PydanticUndefined description='A list of 10 questions about a specific topic' min_length=10 max_length=10 extra={} is not JSON serializable; excluding default from JSON schema [non-serializable-default]\n",
      "  warnings.warn(message, PydanticJsonSchemaWarning)\n",
      "c:\\Users\\adity\\Desktop\\sutd_5055mlop\\.venv\\Lib\\site-packages\\langchain_google_genai\\chat_models.py:367: UserWarning: Convert_system_message_to_human will be deprecated!\n",
      "  warnings.warn(\"Convert_system_message_to_human will be deprecated!\")\n"
     ]
    },
    {
     "name": "stdout",
     "output_type": "stream",
     "text": [
      "Generating questions for topic 24: Internship Opportunities\n"
     ]
    },
    {
     "name": "stderr",
     "output_type": "stream",
     "text": [
      "c:\\Users\\adity\\Desktop\\sutd_5055mlop\\.venv\\Lib\\site-packages\\pydantic\\json_schema.py:2324: PydanticJsonSchemaWarning: Default value default=PydanticUndefined description='A list of 10 questions about a specific topic' min_length=10 max_length=10 extra={} is not JSON serializable; excluding default from JSON schema [non-serializable-default]\n",
      "  warnings.warn(message, PydanticJsonSchemaWarning)\n",
      "c:\\Users\\adity\\Desktop\\sutd_5055mlop\\.venv\\Lib\\site-packages\\langchain_google_genai\\chat_models.py:367: UserWarning: Convert_system_message_to_human will be deprecated!\n",
      "  warnings.warn(\"Convert_system_message_to_human will be deprecated!\")\n"
     ]
    },
    {
     "name": "stdout",
     "output_type": "stream",
     "text": [
      "Generating questions for topic 35: Career Services and Placement Rates\n"
     ]
    },
    {
     "name": "stderr",
     "output_type": "stream",
     "text": [
      "c:\\Users\\adity\\Desktop\\sutd_5055mlop\\.venv\\Lib\\site-packages\\pydantic\\json_schema.py:2324: PydanticJsonSchemaWarning: Default value default=PydanticUndefined description='A list of 10 questions about a specific topic' min_length=10 max_length=10 extra={} is not JSON serializable; excluding default from JSON schema [non-serializable-default]\n",
      "  warnings.warn(message, PydanticJsonSchemaWarning)\n",
      "c:\\Users\\adity\\Desktop\\sutd_5055mlop\\.venv\\Lib\\site-packages\\langchain_google_genai\\chat_models.py:367: UserWarning: Convert_system_message_to_human will be deprecated!\n",
      "  warnings.warn(\"Convert_system_message_to_human will be deprecated!\")\n"
     ]
    },
    {
     "name": "stdout",
     "output_type": "stream",
     "text": [
      "Generating questions for topic 24: Cost of Tuition and Fees\n"
     ]
    },
    {
     "name": "stderr",
     "output_type": "stream",
     "text": [
      "c:\\Users\\adity\\Desktop\\sutd_5055mlop\\.venv\\Lib\\site-packages\\pydantic\\json_schema.py:2324: PydanticJsonSchemaWarning: Default value default=PydanticUndefined description='A list of 10 questions about a specific topic' min_length=10 max_length=10 extra={} is not JSON serializable; excluding default from JSON schema [non-serializable-default]\n",
      "  warnings.warn(message, PydanticJsonSchemaWarning)\n",
      "c:\\Users\\adity\\Desktop\\sutd_5055mlop\\.venv\\Lib\\site-packages\\langchain_google_genai\\chat_models.py:367: UserWarning: Convert_system_message_to_human will be deprecated!\n",
      "  warnings.warn(\"Convert_system_message_to_human will be deprecated!\")\n"
     ]
    },
    {
     "name": "stdout",
     "output_type": "stream",
     "text": [
      "Generating questions for topic 42: Financial Aid and Scholarship Availability\n"
     ]
    },
    {
     "name": "stderr",
     "output_type": "stream",
     "text": [
      "c:\\Users\\adity\\Desktop\\sutd_5055mlop\\.venv\\Lib\\site-packages\\pydantic\\json_schema.py:2324: PydanticJsonSchemaWarning: Default value default=PydanticUndefined description='A list of 10 questions about a specific topic' min_length=10 max_length=10 extra={} is not JSON serializable; excluding default from JSON schema [non-serializable-default]\n",
      "  warnings.warn(message, PydanticJsonSchemaWarning)\n",
      "c:\\Users\\adity\\Desktop\\sutd_5055mlop\\.venv\\Lib\\site-packages\\langchain_google_genai\\chat_models.py:367: UserWarning: Convert_system_message_to_human will be deprecated!\n",
      "  warnings.warn(\"Convert_system_message_to_human will be deprecated!\")\n"
     ]
    },
    {
     "name": "stdout",
     "output_type": "stream",
     "text": [
      "Generating questions for topic 31: Location and Campus Environment\n"
     ]
    },
    {
     "name": "stderr",
     "output_type": "stream",
     "text": [
      "c:\\Users\\adity\\Desktop\\sutd_5055mlop\\.venv\\Lib\\site-packages\\pydantic\\json_schema.py:2324: PydanticJsonSchemaWarning: Default value default=PydanticUndefined description='A list of 10 questions about a specific topic' min_length=10 max_length=10 extra={} is not JSON serializable; excluding default from JSON schema [non-serializable-default]\n",
      "  warnings.warn(message, PydanticJsonSchemaWarning)\n",
      "c:\\Users\\adity\\Desktop\\sutd_5055mlop\\.venv\\Lib\\site-packages\\langchain_google_genai\\chat_models.py:367: UserWarning: Convert_system_message_to_human will be deprecated!\n",
      "  warnings.warn(\"Convert_system_message_to_human will be deprecated!\")\n"
     ]
    },
    {
     "name": "stdout",
     "output_type": "stream",
     "text": [
      "Generating questions for topic 43: Student Life and Extracurricular Activities\n"
     ]
    },
    {
     "name": "stderr",
     "output_type": "stream",
     "text": [
      "c:\\Users\\adity\\Desktop\\sutd_5055mlop\\.venv\\Lib\\site-packages\\pydantic\\json_schema.py:2324: PydanticJsonSchemaWarning: Default value default=PydanticUndefined description='A list of 10 questions about a specific topic' min_length=10 max_length=10 extra={} is not JSON serializable; excluding default from JSON schema [non-serializable-default]\n",
      "  warnings.warn(message, PydanticJsonSchemaWarning)\n",
      "c:\\Users\\adity\\Desktop\\sutd_5055mlop\\.venv\\Lib\\site-packages\\langchain_google_genai\\chat_models.py:367: UserWarning: Convert_system_message_to_human will be deprecated!\n",
      "  warnings.warn(\"Convert_system_message_to_human will be deprecated!\")\n"
     ]
    },
    {
     "name": "stdout",
     "output_type": "stream",
     "text": [
      "Generating questions for topic 35: Diversity and Inclusion Initiatives\n"
     ]
    },
    {
     "name": "stderr",
     "output_type": "stream",
     "text": [
      "c:\\Users\\adity\\Desktop\\sutd_5055mlop\\.venv\\Lib\\site-packages\\pydantic\\json_schema.py:2324: PydanticJsonSchemaWarning: Default value default=PydanticUndefined description='A list of 10 questions about a specific topic' min_length=10 max_length=10 extra={} is not JSON serializable; excluding default from JSON schema [non-serializable-default]\n",
      "  warnings.warn(message, PydanticJsonSchemaWarning)\n",
      "c:\\Users\\adity\\Desktop\\sutd_5055mlop\\.venv\\Lib\\site-packages\\langchain_google_genai\\chat_models.py:367: UserWarning: Convert_system_message_to_human will be deprecated!\n",
      "  warnings.warn(\"Convert_system_message_to_human will be deprecated!\")\n"
     ]
    },
    {
     "name": "stdout",
     "output_type": "stream",
     "text": [
      "Generating questions for topic 26: Campus Safety and Security\n"
     ]
    },
    {
     "name": "stderr",
     "output_type": "stream",
     "text": [
      "c:\\Users\\adity\\Desktop\\sutd_5055mlop\\.venv\\Lib\\site-packages\\pydantic\\json_schema.py:2324: PydanticJsonSchemaWarning: Default value default=PydanticUndefined description='A list of 10 questions about a specific topic' min_length=10 max_length=10 extra={} is not JSON serializable; excluding default from JSON schema [non-serializable-default]\n",
      "  warnings.warn(message, PydanticJsonSchemaWarning)\n",
      "c:\\Users\\adity\\Desktop\\sutd_5055mlop\\.venv\\Lib\\site-packages\\langchain_google_genai\\chat_models.py:367: UserWarning: Convert_system_message_to_human will be deprecated!\n",
      "  warnings.warn(\"Convert_system_message_to_human will be deprecated!\")\n"
     ]
    },
    {
     "name": "stdout",
     "output_type": "stream",
     "text": [
      "Generating questions for topic 27: Housing Options and Quality\n"
     ]
    },
    {
     "name": "stderr",
     "output_type": "stream",
     "text": [
      "c:\\Users\\adity\\Desktop\\sutd_5055mlop\\.venv\\Lib\\site-packages\\pydantic\\json_schema.py:2324: PydanticJsonSchemaWarning: Default value default=PydanticUndefined description='A list of 10 questions about a specific topic' min_length=10 max_length=10 extra={} is not JSON serializable; excluding default from JSON schema [non-serializable-default]\n",
      "  warnings.warn(message, PydanticJsonSchemaWarning)\n",
      "c:\\Users\\adity\\Desktop\\sutd_5055mlop\\.venv\\Lib\\site-packages\\langchain_google_genai\\chat_models.py:367: UserWarning: Convert_system_message_to_human will be deprecated!\n",
      "  warnings.warn(\"Convert_system_message_to_human will be deprecated!\")\n"
     ]
    },
    {
     "name": "stdout",
     "output_type": "stream",
     "text": [
      "Generating questions for topic 39: Class Size and Student-to-Faculty Ratio\n"
     ]
    },
    {
     "name": "stderr",
     "output_type": "stream",
     "text": [
      "c:\\Users\\adity\\Desktop\\sutd_5055mlop\\.venv\\Lib\\site-packages\\pydantic\\json_schema.py:2324: PydanticJsonSchemaWarning: Default value default=PydanticUndefined description='A list of 10 questions about a specific topic' min_length=10 max_length=10 extra={} is not JSON serializable; excluding default from JSON schema [non-serializable-default]\n",
      "  warnings.warn(message, PydanticJsonSchemaWarning)\n",
      "c:\\Users\\adity\\Desktop\\sutd_5055mlop\\.venv\\Lib\\site-packages\\langchain_google_genai\\chat_models.py:367: UserWarning: Convert_system_message_to_human will be deprecated!\n",
      "  warnings.warn(\"Convert_system_message_to_human will be deprecated!\")\n"
     ]
    },
    {
     "name": "stdout",
     "output_type": "stream",
     "text": [
      "Generating questions for topic 34: Technology and Resources Available\n"
     ]
    },
    {
     "name": "stderr",
     "output_type": "stream",
     "text": [
      "c:\\Users\\adity\\Desktop\\sutd_5055mlop\\.venv\\Lib\\site-packages\\pydantic\\json_schema.py:2324: PydanticJsonSchemaWarning: Default value default=PydanticUndefined description='A list of 10 questions about a specific topic' min_length=10 max_length=10 extra={} is not JSON serializable; excluding default from JSON schema [non-serializable-default]\n",
      "  warnings.warn(message, PydanticJsonSchemaWarning)\n",
      "c:\\Users\\adity\\Desktop\\sutd_5055mlop\\.venv\\Lib\\site-packages\\langchain_google_genai\\chat_models.py:367: UserWarning: Convert_system_message_to_human will be deprecated!\n",
      "  warnings.warn(\"Convert_system_message_to_human will be deprecated!\")\n"
     ]
    },
    {
     "name": "stdout",
     "output_type": "stream",
     "text": [
      "Generating questions for topic 21: Study Abroad Programs\n"
     ]
    },
    {
     "name": "stderr",
     "output_type": "stream",
     "text": [
      "c:\\Users\\adity\\Desktop\\sutd_5055mlop\\.venv\\Lib\\site-packages\\pydantic\\json_schema.py:2324: PydanticJsonSchemaWarning: Default value default=PydanticUndefined description='A list of 10 questions about a specific topic' min_length=10 max_length=10 extra={} is not JSON serializable; excluding default from JSON schema [non-serializable-default]\n",
      "  warnings.warn(message, PydanticJsonSchemaWarning)\n",
      "c:\\Users\\adity\\Desktop\\sutd_5055mlop\\.venv\\Lib\\site-packages\\langchain_google_genai\\chat_models.py:367: UserWarning: Convert_system_message_to_human will be deprecated!\n",
      "  warnings.warn(\"Convert_system_message_to_human will be deprecated!\")\n"
     ]
    },
    {
     "name": "stdout",
     "output_type": "stream",
     "text": [
      "Generating questions for topic 30: Alumni Network and Connections\n"
     ]
    },
    {
     "name": "stderr",
     "output_type": "stream",
     "text": [
      "c:\\Users\\adity\\Desktop\\sutd_5055mlop\\.venv\\Lib\\site-packages\\pydantic\\json_schema.py:2324: PydanticJsonSchemaWarning: Default value default=PydanticUndefined description='A list of 10 questions about a specific topic' min_length=10 max_length=10 extra={} is not JSON serializable; excluding default from JSON schema [non-serializable-default]\n",
      "  warnings.warn(message, PydanticJsonSchemaWarning)\n",
      "c:\\Users\\adity\\Desktop\\sutd_5055mlop\\.venv\\Lib\\site-packages\\langchain_google_genai\\chat_models.py:367: UserWarning: Convert_system_message_to_human will be deprecated!\n",
      "  warnings.warn(\"Convert_system_message_to_human will be deprecated!\")\n"
     ]
    },
    {
     "name": "stdout",
     "output_type": "stream",
     "text": [
      "Generating questions for topic 25: Campus Culture and Values\n"
     ]
    },
    {
     "name": "stderr",
     "output_type": "stream",
     "text": [
      "c:\\Users\\adity\\Desktop\\sutd_5055mlop\\.venv\\Lib\\site-packages\\pydantic\\json_schema.py:2324: PydanticJsonSchemaWarning: Default value default=PydanticUndefined description='A list of 10 questions about a specific topic' min_length=10 max_length=10 extra={} is not JSON serializable; excluding default from JSON schema [non-serializable-default]\n",
      "  warnings.warn(message, PydanticJsonSchemaWarning)\n",
      "c:\\Users\\adity\\Desktop\\sutd_5055mlop\\.venv\\Lib\\site-packages\\langchain_google_genai\\chat_models.py:367: UserWarning: Convert_system_message_to_human will be deprecated!\n",
      "  warnings.warn(\"Convert_system_message_to_human will be deprecated!\")\n"
     ]
    },
    {
     "name": "stdout",
     "output_type": "stream",
     "text": [
      "Generating questions for topic 26: Social Scene and Nightlife\n"
     ]
    },
    {
     "name": "stderr",
     "output_type": "stream",
     "text": [
      "c:\\Users\\adity\\Desktop\\sutd_5055mlop\\.venv\\Lib\\site-packages\\pydantic\\json_schema.py:2324: PydanticJsonSchemaWarning: Default value default=PydanticUndefined description='A list of 10 questions about a specific topic' min_length=10 max_length=10 extra={} is not JSON serializable; excluding default from JSON schema [non-serializable-default]\n",
      "  warnings.warn(message, PydanticJsonSchemaWarning)\n",
      "c:\\Users\\adity\\Desktop\\sutd_5055mlop\\.venv\\Lib\\site-packages\\langchain_google_genai\\chat_models.py:367: UserWarning: Convert_system_message_to_human will be deprecated!\n",
      "  warnings.warn(\"Convert_system_message_to_human will be deprecated!\")\n"
     ]
    },
    {
     "name": "stdout",
     "output_type": "stream",
     "text": [
      "Generating questions for topic 37: Accessibility and Disability Services\n"
     ]
    }
   ],
   "source": [
    "# # QUESTION: Now let's put it together and generate 10 questions for each topic. Save the questions in a local file.\n",
    "\n",
    "#--- ADD YOUR SOLUTION HERE (20 points)---\n",
    "with open(\"data/topics_20.json\", \"r\") as f:\n",
    "    topics = json.load(f)\n",
    "\n",
    "rate_limit = 15\n",
    "requests_made = 0\n",
    "all_questions = {}\n",
    "\n",
    "for i, topic in enumerate(topics):\n",
    "    if requests_made >= rate_limit:\n",
    "        time.sleep(60)\n",
    "        requests_made = 0\n",
    "    response = generate_questions(topic)\n",
    "    all_questions[topic] = response[topic]\n",
    "    requests_made += 1\n",
    "\n",
    "with open(\"data/questions.json\", \"w\") as f:\n",
    "    json.dump(all_questions, f, indent=2)"
   ]
  },
  {
   "cell_type": "markdown",
   "id": "f35dd1d4",
   "metadata": {},
   "source": [
    "## Generate Answers\n",
    "\n",
    "Now create answers for the questions. \n",
    "\n",
    "You can use the Google AI Studio Gemini model (assuming that they are good enough to generate good answers), your RAG system from assignment 3 or any other method you choose to generate answers for your question dataset.\n",
    "\n",
    "Note: it is normal that some LLM calls fail, even with retry, so maybe you end up with less than 200 QA pairs but it should be at least 160 QA pairs."
   ]
  },
  {
   "cell_type": "code",
   "execution_count": null,
   "id": "e4e785dd-ab6f-41f8-961b-bf6f9ae24a06",
   "metadata": {},
   "outputs": [],
   "source": [
    "# QUESTION: Generate answers to al your questions using Gemini, your SUTD RAG system or any other method.\n",
    "# Split your dataset in to 80% training and 20% test dataset.\n",
    "# Store all questions and answer pairs in a huggingface dataset `sutd_qa_dataset` and push it to your Huggingface hub. \n",
    "\n",
    "#--- ADD YOUR SOLUTION HERE (40 points)---\n",
    "\n",
    "# generate answers to al the questions using Gemini and then split the dataset in to 80% training and 20% test dataset.\n",
    "\n",
    "\n"
   ]
  },
  {
   "cell_type": "code",
   "execution_count": null,
   "id": "26209b06",
   "metadata": {},
   "outputs": [],
   "source": [
    "# test the chain\n",
    "question = \"When was SUTD founded?\"\n",
    "\n",
    "# Now run the answer generation chain\n",
    "response = generate_answer(question)\n",
    "print(\"\\nModel Response:\")\n",
    "print(response[\"answer\"])"
   ]
  },
  {
   "cell_type": "code",
   "execution_count": null,
   "id": "80228b92",
   "metadata": {},
   "outputs": [],
   "source": [
    "# now run the chain for all questions to collect context and generate answers\n",
    "\n"
   ]
  },
  {
   "cell_type": "markdown",
   "id": "518dbba2-b593-48ca-abe0-ea8b2423bd19",
   "metadata": {},
   "source": [
    "# Finetune Llama 3.2 1B model\n",
    "\n",
    "Now use your SUTD QA dataset training data set to finetune a smaller Llama 3.2 1B LLM using parameter-efficient finetuning (PEFT). \n",
    "We recommend the unsloth library but you are free to choose other frameworks. You can decide the parameters for the finetuning. \n",
    "Push your finetuned model to Huggingface. \n",
    "\n",
    "Then we will compare the finetuned and non-finetuned LLMs with and without RAG to see if we were able to improve the SUTD chatbot answer quality. \n"
   ]
  },
  {
   "cell_type": "code",
   "execution_count": null,
   "id": "9a684028-8dec-4297-a2c4-f659d2f32a26",
   "metadata": {},
   "outputs": [],
   "source": [
    "# QUESTION: Finetune a Llama 3.2 1B model on the training split of your SUTD QA dataset.\n",
    "# You need to prepare your dataset accordingly and set the hyperparameters for the training.\n",
    "# Push your finetuned model to the Hugginface model hub {YOUR_HF_NAME}/llama-3.2-1B-sutdqa\n",
    "\n",
    "#--- ADD YOUR SOLUTION HERE (50 points)---\n",
    "\n"
   ]
  },
  {
   "cell_type": "code",
   "execution_count": null,
   "id": "4268373a-9d77-4787-a0d7-a6df23cd94de",
   "metadata": {},
   "outputs": [],
   "source": [
    "# QUESTION: Load a non-finetuned Llama 3.2 1B model and your finetuned SUTD QA Llama 3.2 1B model\n",
    "# Ask it a simple test question (e.g. \"What is special about SUTD?\") to check that both models can generated answers\n",
    "\n",
    "#--- ADD YOUR SOLUTION HERE (10 points)---\n",
    "\n"
   ]
  },
  {
   "cell_type": "code",
   "execution_count": null,
   "id": "a3ff291f",
   "metadata": {},
   "outputs": [],
   "source": [
    "# try out the llms\n",
    "\n",
    "query = \"What is special about SUTD?\"\n",
    "\n",
    "print(\"Question:\", query)\n",
    "response_base = llm_base.invoke(query,  pipeline_kwargs={\"max_new_tokens\": 512})\n",
    "print(\"Answer base:\", response_base)\n",
    "\n",
    "print(\"---------\")\n",
    "response_finetune = llm_finetune.invoke(query, pipeline_kwargs={\"max_new_tokens\": 512})\n",
    "print(\"Answer finetune:\", response_finetune)\n"
   ]
  },
  {
   "cell_type": "markdown",
   "id": "cc277373",
   "metadata": {},
   "source": [
    "# Integrate and evaluate\n",
    "\n",
    "Now integrate both the non-finetuned Llama 3.2 1B model and your finetuned model into your SUTD chatbot RAG system. \n",
    "Generate responses to the 20 questions you have collected in assignment 3 using these 4 appraoches\n",
    "1. non-finetuned Llama 3.2 1B model without RAG\n",
    "2. finetuned Llama 3.2 1B SUTD QA model without RAG\n",
    "3. non-finetuned Llama 3.2 1B model with RAG\n",
    "4. finetuned Llama 3.2 1B SUTD QA model with RAG\n",
    "\n",
    "Compare the responses and decide what system produces the most accurate and high quality responses"
   ]
  },
  {
   "cell_type": "code",
   "execution_count": null,
   "id": "da455368",
   "metadata": {},
   "outputs": [],
   "source": [
    "# QUESTION: Re-create the RAG chatbot system you have created in assignment 3 but with the Llama 3.2 1B (non-tuned and finetuned) models\n",
    "\n",
    "#--- ADD YOUR SOLUTION HERE (40 points)---\n"
   ]
  },
  {
   "cell_type": "markdown",
   "id": "973e2fdb-348c-45d4-8f6e-0bbf5136ec87",
   "metadata": {},
   "source": [
    "# Bonus points: LLM-as-judge evaluation \n",
    "\n",
    "Implement an LLM-as-judge pipeline to assess the quality of the different system (finetuned vs. non-fintuned, RAG vs no RAG)\n",
    "\n"
   ]
  },
  {
   "cell_type": "code",
   "execution_count": null,
   "id": "41db185b",
   "metadata": {},
   "outputs": [],
   "source": [
    "# QUESTION: Implement an LLM-as-judge pipeline to assess the quality of the different system (finetuned vs. non-fintuned, RAG vs no RAG)\n",
    "\n",
    "#--- ADD YOUR SOLUTION HERE (40 points)---"
   ]
  },
  {
   "cell_type": "markdown",
   "id": "4dd4cca8",
   "metadata": {},
   "source": [
    "# Bonus points: chatbot UI\n",
    "\n",
    "Implement a web UI frontend for your chatbot that you can demo in class. \n"
   ]
  },
  {
   "cell_type": "code",
   "execution_count": null,
   "id": "c196881f",
   "metadata": {},
   "outputs": [],
   "source": [
    "# QUESTION: Implement a web UI frontend for your chatbot that you can demo in class. \n",
    "\n",
    "#--- ADD YOUR SOLUTION HERE (40 points)---"
   ]
  },
  {
   "cell_type": "markdown",
   "id": "d576e6cc",
   "metadata": {},
   "source": [
    "# End\n",
    "\n",
    "This concludes assignment 4.\n",
    "\n",
    "Please submit this notebook with your answers and the generated output cells as a **Jupyter notebook file** via github.\n",
    "\n",
    "\n",
    "Every group member should do the following submission steps:\n",
    "1. Create a private github repository **sutd_5055mlop** under your github user.\n",
    "2. Add your instructors as collaborator: ddahlmeier and lucainiaoge\n",
    "3. Save your submission as assignment_04_GROUP_NAME.ipynb where GROUP_NAME is the name of the group you have registered. \n",
    "4. Push the submission files to your repo \n",
    "5. Submit the link to the repo via eDimensions\n",
    "\n",
    "\n",
    "\n",
    "**Assignment due 21 April 2025 11:59pm**"
   ]
  }
 ],
 "metadata": {
  "kernelspec": {
   "display_name": ".venv",
   "language": "python",
   "name": "python3"
  },
  "language_info": {
   "codemirror_mode": {
    "name": "ipython",
    "version": 3
   },
   "file_extension": ".py",
   "mimetype": "text/x-python",
   "name": "python",
   "nbconvert_exporter": "python",
   "pygments_lexer": "ipython3",
   "version": "3.11.5"
  }
 },
 "nbformat": 4,
 "nbformat_minor": 5
}
